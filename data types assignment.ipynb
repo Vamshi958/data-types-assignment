{
 "cells": [
  {
   "cell_type": "markdown",
   "id": "ab52d2fb-d090-472a-94ec-37be44801b56",
   "metadata": {},
   "source": [
    "STRING BASED ASSIGNMENT PROBLEM"
   ]
  },
  {
   "cell_type": "code",
   "execution_count": null,
   "id": "a0946e41-32d7-4e04-a117-e415a15d1950",
   "metadata": {},
   "outputs": [],
   "source": [
    "1.write a program to reverse a string"
   ]
  },
  {
   "cell_type": "code",
   "execution_count": 1,
   "id": "8e9875ce-913e-483d-8005-c70e684a86c0",
   "metadata": {},
   "outputs": [
    {
     "data": {
      "text/plain": [
       "'ihsmav'"
      ]
     },
     "execution_count": 1,
     "metadata": {},
     "output_type": "execute_result"
    }
   ],
   "source": [
    "str = \"vamshi\"\n",
    "str[::-1]"
   ]
  },
  {
   "cell_type": "code",
   "execution_count": null,
   "id": "798dc8aa-a931-41d7-8ff6-a62672e393ce",
   "metadata": {},
   "outputs": [],
   "source": [
    "2.check if a string is a palindrome"
   ]
  },
  {
   "cell_type": "code",
   "execution_count": 5,
   "id": "95ac8225-cd47-4bfe-92db-3049ab8aab4e",
   "metadata": {},
   "outputs": [
    {
     "name": "stdin",
     "output_type": "stream",
     "text": [
      "enter a string sms\n"
     ]
    },
    {
     "name": "stdout",
     "output_type": "stream",
     "text": [
      "str is palindrome\n"
     ]
    }
   ],
   "source": [
    "str = input(\"enter a string\")\n",
    "palindrome = str[::-1]\n",
    "if str == palindrome:\n",
    "    print (\"str is palindrome\")\n",
    "else:\n",
    "           print(\"str is not palindroem\")      \n",
    "            "
   ]
  },
  {
   "cell_type": "code",
   "execution_count": null,
   "id": "13304185-b438-4d9c-b1e2-443a5f7a79fa",
   "metadata": {},
   "outputs": [],
   "source": [
    "3.convert a string to uppercase"
   ]
  },
  {
   "cell_type": "code",
   "execution_count": 6,
   "id": "9b07a31d-604e-4135-8e2e-b93380aac9a7",
   "metadata": {},
   "outputs": [
    {
     "name": "stdin",
     "output_type": "stream",
     "text": [
      "enter a string vamshi\n"
     ]
    },
    {
     "data": {
      "text/plain": [
       "'VAMSHI'"
      ]
     },
     "execution_count": 6,
     "metadata": {},
     "output_type": "execute_result"
    }
   ],
   "source": [
    "str = input(\"enter a string\")\n",
    "str.upper()"
   ]
  },
  {
   "cell_type": "code",
   "execution_count": null,
   "id": "6d29473b-4928-4b06-9063-570de1ac6fce",
   "metadata": {},
   "outputs": [],
   "source": [
    "4.convert a string to lowercase"
   ]
  },
  {
   "cell_type": "code",
   "execution_count": 8,
   "id": "8de90d8d-7015-4834-855e-0193b957f893",
   "metadata": {},
   "outputs": [
    {
     "name": "stdin",
     "output_type": "stream",
     "text": [
      "enter a string VAMSHI\n"
     ]
    },
    {
     "data": {
      "text/plain": [
       "'vamshi'"
      ]
     },
     "execution_count": 8,
     "metadata": {},
     "output_type": "execute_result"
    }
   ],
   "source": [
    "str = input(\"enter a string\")\n",
    "str.lower()"
   ]
  },
  {
   "cell_type": "code",
   "execution_count": null,
   "id": "5334cce1-07b1-41b3-8c2b-d3b7c9a2bce4",
   "metadata": {},
   "outputs": [],
   "source": [
    "5.count the number of vowels in a string"
   ]
  },
  {
   "cell_type": "code",
   "execution_count": 30,
   "id": "0d873958-a978-401f-939d-d2295d9be6ca",
   "metadata": {},
   "outputs": [
    {
     "name": "stdout",
     "output_type": "stream",
     "text": [
      "2\n"
     ]
    }
   ],
   "source": [
    "str = \"vamshi\"\n",
    "vowels = [\"a\",\"e\",\"i\",\"o\",\"u\",\"A\",\"E\",\"I\",\"O\",\"U\"]\n",
    "count=0\n",
    "for i in str:\n",
    "    if i in vowels:\n",
    "        count=count+1\n",
    "print(count)\n",
    "        \n",
    "    \n",
    "    "
   ]
  },
  {
   "cell_type": "code",
   "execution_count": null,
   "id": "c9302931-6f08-4116-b540-850b6a6767d3",
   "metadata": {},
   "outputs": [],
   "source": [
    "6.count no of consonants in a string\n"
   ]
  },
  {
   "cell_type": "code",
   "execution_count": 31,
   "id": "0e864154-6078-456f-be22-21a22f6612aa",
   "metadata": {},
   "outputs": [
    {
     "name": "stdout",
     "output_type": "stream",
     "text": [
      "4\n"
     ]
    }
   ],
   "source": [
    "str = \"vamshi\"\n",
    "vowels = [\"a\",\"e\",\"i\",\"o\",\"u\",\"A\",\"E\",\"I\",\"O\",\"U\"]\n",
    "count=0\n",
    "for i in str:\n",
    "    if i not in vowels:\n",
    "        count=count+1\n",
    "print(count)\n",
    "        \n",
    "    \n",
    "    "
   ]
  },
  {
   "cell_type": "code",
   "execution_count": null,
   "id": "431f1118-5508-4235-8218-7572b51269fc",
   "metadata": {},
   "outputs": [],
   "source": [
    "7.remove all whitespaces from astring"
   ]
  },
  {
   "cell_type": "code",
   "execution_count": 37,
   "id": "f2de5008-6f40-4cac-82d0-030a1054ee26",
   "metadata": {},
   "outputs": [
    {
     "data": {
      "text/plain": [
       "'vamshi'"
      ]
     },
     "execution_count": 37,
     "metadata": {},
     "output_type": "execute_result"
    }
   ],
   "source": [
    "str = \"vam  shi\"\n",
    "str.replace(\" \",\"\")"
   ]
  },
  {
   "cell_type": "code",
   "execution_count": null,
   "id": "319c487c-c886-48ec-8141-cd3d7e79e317",
   "metadata": {},
   "outputs": [],
   "source": [
    "8.find the length of a string without using the len() function"
   ]
  },
  {
   "cell_type": "code",
   "execution_count": 39,
   "id": "b79f36cf-890f-44b5-b5cf-3c9a647610e9",
   "metadata": {},
   "outputs": [
    {
     "name": "stdout",
     "output_type": "stream",
     "text": [
      "6\n"
     ]
    }
   ],
   "source": [
    "str = \"vamshi\"\n",
    "count=0\n",
    "for i in str:\n",
    "    count=count+1\n",
    "    \n",
    "print(count)\n",
    "        \n",
    "    \n",
    "    "
   ]
  },
  {
   "cell_type": "code",
   "execution_count": 40,
   "id": "348d1e9a-bbfb-44f9-9187-b96e89efb259",
   "metadata": {},
   "outputs": [
    {
     "data": {
      "text/plain": [
       "6"
      ]
     },
     "execution_count": 40,
     "metadata": {},
     "output_type": "execute_result"
    }
   ],
   "source": [
    "# with using len() ------len(\"vamshi\")"
   ]
  },
  {
   "cell_type": "code",
   "execution_count": null,
   "id": "6c070686-d73e-4782-b7e5-009bc8ff5ea7",
   "metadata": {},
   "outputs": [],
   "source": [
    "9.check if a string contains a specific word"
   ]
  },
  {
   "cell_type": "code",
   "execution_count": 68,
   "id": "924351ef-90a3-45f0-b683-f78810f8614b",
   "metadata": {},
   "outputs": [
    {
     "name": "stdout",
     "output_type": "stream",
     "text": [
      "yes str contain vamshi\n"
     ]
    }
   ],
   "source": [
    "str = \"vamshikrishna\"\n",
    "if \"vamshi\" in str:\n",
    "    print(\"yes str contain vamshi\")"
   ]
  },
  {
   "cell_type": "code",
   "execution_count": null,
   "id": "b8f2acb8-bae7-44e2-8db1-127c14ee65b8",
   "metadata": {},
   "outputs": [],
   "source": [
    "10.replace a word in a string with anothr word"
   ]
  },
  {
   "cell_type": "code",
   "execution_count": 69,
   "id": "f076ded6-154f-4c7d-8819-2fca6fdad78f",
   "metadata": {},
   "outputs": [
    {
     "data": {
      "text/plain": [
       "'vamshi vamshi'"
      ]
     },
     "execution_count": 69,
     "metadata": {},
     "output_type": "execute_result"
    }
   ],
   "source": [
    "str = \"krishna vamshi\"\n",
    "str.replace(\"krishna\",\"vamshi\")"
   ]
  },
  {
   "cell_type": "code",
   "execution_count": null,
   "id": "bd04a835-516c-4f6d-859f-3b59b2ca92b8",
   "metadata": {},
   "outputs": [],
   "source": [
    "11.count the occurrences of aword in a string"
   ]
  },
  {
   "cell_type": "code",
   "execution_count": 72,
   "id": "34b3ac1d-477c-4482-b6ea-2fa689a3d11f",
   "metadata": {},
   "outputs": [
    {
     "data": {
      "text/plain": [
       "2"
      ]
     },
     "execution_count": 72,
     "metadata": {},
     "output_type": "execute_result"
    }
   ],
   "source": [
    "str=\"vamshi vamshi krishna\"\n",
    "str.count(\"vamshi\")"
   ]
  },
  {
   "cell_type": "code",
   "execution_count": null,
   "id": "40941c41-5f05-4840-ae24-753f0e98f0bb",
   "metadata": {},
   "outputs": [],
   "source": [
    "12.find the first occurences of a word in a string"
   ]
  },
  {
   "cell_type": "code",
   "execution_count": 38,
   "id": "12381470-71ca-4643-87d4-c9b7e9a0dc8c",
   "metadata": {},
   "outputs": [
    {
     "data": {
      "text/plain": [
       "1"
      ]
     },
     "execution_count": 38,
     "metadata": {},
     "output_type": "execute_result"
    }
   ],
   "source": [
    "str = \"vamshi krishna\"\n",
    "str.find(\"a\")"
   ]
  },
  {
   "cell_type": "code",
   "execution_count": null,
   "id": "3c19bbb5-130b-4bc1-9845-f8e06c9665b9",
   "metadata": {},
   "outputs": [],
   "source": [
    "13.find the last occurences of a word in a string"
   ]
  },
  {
   "cell_type": "code",
   "execution_count": 75,
   "id": "2fe4f8cc-d101-432d-801d-1c660c2dd3ec",
   "metadata": {},
   "outputs": [
    {
     "data": {
      "text/plain": [
       "13"
      ]
     },
     "execution_count": 75,
     "metadata": {},
     "output_type": "execute_result"
    }
   ],
   "source": [
    "str = \"vamshi krishna\"\n",
    "str.rfind(\"a\")"
   ]
  },
  {
   "cell_type": "code",
   "execution_count": null,
   "id": "2980426a-574d-4f00-b3a5-357465ec4ac6",
   "metadata": {},
   "outputs": [],
   "source": [
    "14.split a string into a list of words"
   ]
  },
  {
   "cell_type": "code",
   "execution_count": 77,
   "id": "19d02b75-b276-48ab-98cf-96b99a0a6169",
   "metadata": {},
   "outputs": [
    {
     "data": {
      "text/plain": [
       "['vamshi', 'krishna']"
      ]
     },
     "execution_count": 77,
     "metadata": {},
     "output_type": "execute_result"
    }
   ],
   "source": [
    "str = \"vamshi krishna\"\n",
    "str.split()  #where ever space it take as single list element"
   ]
  },
  {
   "cell_type": "code",
   "execution_count": null,
   "id": "9caeaa4f-3a7f-4e8b-91a4-5b1fde6651eb",
   "metadata": {},
   "outputs": [],
   "source": [
    "15.join a list of words into a string"
   ]
  },
  {
   "cell_type": "code",
   "execution_count": 4,
   "id": "e3903072-38d1-46e2-b626-4dee585bd866",
   "metadata": {},
   "outputs": [
    {
     "name": "stdout",
     "output_type": "stream",
     "text": [
      "vamshi krishna\n"
     ]
    }
   ],
   "source": [
    "a = ['vamshi', 'krishna']\n",
    "\n",
    "b=' '.join(a)\n",
    "print(b)"
   ]
  },
  {
   "cell_type": "code",
   "execution_count": null,
   "id": "6ddd0845-9d2a-4243-a2f8-882e840cdf7d",
   "metadata": {},
   "outputs": [],
   "source": [
    "16.convert a string where words are seperated by spaces to one whwere words are seperated by underscores"
   ]
  },
  {
   "cell_type": "code",
   "execution_count": 8,
   "id": "0b108bde-07e1-4270-8ac8-dc32ece08321",
   "metadata": {},
   "outputs": [
    {
     "data": {
      "text/plain": [
       "'vamshi_krishna'"
      ]
     },
     "execution_count": 8,
     "metadata": {},
     "output_type": "execute_result"
    }
   ],
   "source": [
    "str = \"vamshi krishna\"\n",
    "str.replace(' ',\"_\")"
   ]
  },
  {
   "cell_type": "code",
   "execution_count": null,
   "id": "5328d8ae-e9b6-4318-be4a-d224f33b6b18",
   "metadata": {},
   "outputs": [],
   "source": [
    "17.check if astring starts with a specific word or phrase"
   ]
  },
  {
   "cell_type": "code",
   "execution_count": 11,
   "id": "e74bf36f-9378-45f9-94a9-4b42147707e9",
   "metadata": {},
   "outputs": [
    {
     "name": "stdout",
     "output_type": "stream",
     "text": [
      "true\n"
     ]
    }
   ],
   "source": [
    "str = \"a dog\"\n",
    "\n",
    "if str[0]==\"a\":\n",
    "    print(\"true\")"
   ]
  },
  {
   "cell_type": "code",
   "execution_count": null,
   "id": "bb77a0db-87bd-4f25-8342-b3105d0c1a14",
   "metadata": {},
   "outputs": [],
   "source": [
    "18.check if a string ends with a specific word or phrase"
   ]
  },
  {
   "cell_type": "code",
   "execution_count": 12,
   "id": "d7f97387-362c-46d0-b381-f3528bcd991e",
   "metadata": {},
   "outputs": [
    {
     "name": "stdout",
     "output_type": "stream",
     "text": [
      "false\n"
     ]
    }
   ],
   "source": [
    "str = \"a dog\"\n",
    "\n",
    "if str[-1]==\"a\":\n",
    "    print(\"true\")\n",
    "else:\n",
    "    print(\"false\")"
   ]
  },
  {
   "cell_type": "code",
   "execution_count": null,
   "id": "d687954d-478a-410f-b921-25f2a9346f43",
   "metadata": {},
   "outputs": [],
   "source": [
    "19.convert a string to title case"
   ]
  },
  {
   "cell_type": "code",
   "execution_count": 14,
   "id": "4c6b950f-b19c-40d7-b166-4b6bb20108c3",
   "metadata": {},
   "outputs": [
    {
     "data": {
      "text/plain": [
       "'Hello World'"
      ]
     },
     "execution_count": 14,
     "metadata": {},
     "output_type": "execute_result"
    }
   ],
   "source": [
    "str = \"hello world\"\n",
    "str.title()"
   ]
  },
  {
   "cell_type": "code",
   "execution_count": null,
   "id": "2bdb5ed5-c17e-4f3a-b1a1-9eb9d5a4d9cb",
   "metadata": {},
   "outputs": [],
   "source": [
    "20.find the longest word in a string"
   ]
  },
  {
   "cell_type": "code",
   "execution_count": 69,
   "id": "c83af671-7b74-46e5-9a74-397e6909c6ad",
   "metadata": {},
   "outputs": [
    {
     "name": "stdout",
     "output_type": "stream",
     "text": [
      "The longest word is: vamshi\n"
     ]
    }
   ],
   "source": [
    "a = \"vamshi is the good boy\"\n",
    "b = a.split()\n",
    "longest_word = \"\"\n",
    "\n",
    "for word in b:\n",
    "    if len(word) > len(longest_word):\n",
    "        longest_word = word  #longest_word always updates when if condition is true\n",
    "\n",
    "print(\"The longest word is:\", longest_word)\n"
   ]
  },
  {
   "cell_type": "code",
   "execution_count": null,
   "id": "cf0a03ce-ab61-4362-8070-4a1b9c626113",
   "metadata": {},
   "outputs": [],
   "source": [
    "21.find the shortest word in a string"
   ]
  },
  {
   "cell_type": "code",
   "execution_count": 92,
   "id": "ee0f6c08-90cd-437c-84b2-6eda0307ec2a",
   "metadata": {},
   "outputs": [
    {
     "name": "stdout",
     "output_type": "stream",
     "text": [
      "The shortest word is: is\n"
     ]
    }
   ],
   "source": [
    "a = \"vamshi is the good boy\"\n",
    "b = a.split()\n",
    "shortest_word = None  # Initialize as None\n",
    "\n",
    "for word in b:\n",
    "    if shortest_word is None or len(word) < len(shortest_word):\n",
    "        shortest_word = word\n",
    "\n",
    "print(\"The shortest word is:\", shortest_word)\n"
   ]
  },
  {
   "cell_type": "code",
   "execution_count": null,
   "id": "0ef291bb-8566-43f2-9f07-3fd13cb7abe0",
   "metadata": {},
   "outputs": [],
   "source": [
    "22.reverse the order of words in a string"
   ]
  },
  {
   "cell_type": "code",
   "execution_count": 18,
   "id": "e96ec9e5-b39e-4a8e-9f05-c7b0b8d9a075",
   "metadata": {},
   "outputs": [
    {
     "name": "stdout",
     "output_type": "stream",
     "text": [
      "krishna vamshi\n"
     ]
    }
   ],
   "source": [
    "your_string = \"vamshi krishna\"\n",
    "word_list = your_string.split()  \n",
    "reversed_string = ' '.join(word_list[::-1])  \n",
    "\n",
    "print(reversed_string)\n"
   ]
  },
  {
   "cell_type": "code",
   "execution_count": null,
   "id": "b99ba53c-f9b7-44d9-b3e8-96000b37cb86",
   "metadata": {},
   "outputs": [],
   "source": [
    "23.Check if a string is alphanumeric"
   ]
  },
  {
   "cell_type": "code",
   "execution_count": 4,
   "id": "30725307-3da4-46ab-a8b0-9e5421f6e62c",
   "metadata": {},
   "outputs": [
    {
     "data": {
      "text/plain": [
       "True"
      ]
     },
     "execution_count": 4,
     "metadata": {},
     "output_type": "execute_result"
    }
   ],
   "source": [
    "s = \"vamshi123\"\n",
    "s.isalnum()"
   ]
  },
  {
   "cell_type": "code",
   "execution_count": null,
   "id": "7b2ac833-8289-45a5-9f63-d6baf2e6c080",
   "metadata": {},
   "outputs": [],
   "source": [
    "24.extract all digits from a string"
   ]
  },
  {
   "cell_type": "code",
   "execution_count": 67,
   "id": "74f42b50-7fb6-44f5-b6eb-a9ddd083fc4e",
   "metadata": {},
   "outputs": [],
   "source": [
    "def digits_string(z):\n",
    "    b = []\n",
    "    for i in z:\n",
    "        if i.isnumeric()==True:\n",
    "            b.append(i)\n",
    "    return ''.join(b)\n",
    "            "
   ]
  },
  {
   "cell_type": "code",
   "execution_count": 68,
   "id": "fbb70077-392b-4cb7-8cbc-856f35e9c166",
   "metadata": {},
   "outputs": [],
   "source": [
    "l=\"vamshi123\""
   ]
  },
  {
   "cell_type": "code",
   "execution_count": 69,
   "id": "57594558-3727-4ca9-962e-61b149e257ff",
   "metadata": {},
   "outputs": [
    {
     "data": {
      "text/plain": [
       "'123'"
      ]
     },
     "execution_count": 69,
     "metadata": {},
     "output_type": "execute_result"
    }
   ],
   "source": [
    "digits_string(l)"
   ]
  },
  {
   "cell_type": "code",
   "execution_count": null,
   "id": "2f88b427-ba43-46a1-9bdf-b819715e0752",
   "metadata": {},
   "outputs": [],
   "source": [
    "25.extract all alphabets from astring"
   ]
  },
  {
   "cell_type": "code",
   "execution_count": 74,
   "id": "58fe685d-edb6-4344-bd28-20e2222250ae",
   "metadata": {},
   "outputs": [],
   "source": [
    "def alpha_string(z):\n",
    "    b = []\n",
    "    for i in z:\n",
    "        if i.isalpha()==True:\n",
    "            b.append(i)\n",
    "    return ''.join(b)\n",
    "            "
   ]
  },
  {
   "cell_type": "code",
   "execution_count": 75,
   "id": "374b4569-3885-442f-ba81-9c851ee8ab83",
   "metadata": {},
   "outputs": [
    {
     "data": {
      "text/plain": [
       "'vamshi'"
      ]
     },
     "execution_count": 75,
     "metadata": {},
     "output_type": "execute_result"
    }
   ],
   "source": [
    "alpha_string(l)"
   ]
  },
  {
   "cell_type": "code",
   "execution_count": null,
   "id": "5c5dc9a3-a847-49d2-b942-40be29946959",
   "metadata": {},
   "outputs": [],
   "source": [
    "26.count the number of uppercase letters in a string"
   ]
  },
  {
   "cell_type": "code",
   "execution_count": 77,
   "id": "2c55b1b0-8b53-4510-bc67-5ad314207a8e",
   "metadata": {},
   "outputs": [],
   "source": [
    "def upper_str(s):\n",
    "    u=[]\n",
    "    for i in s:\n",
    "        if i.isupper()==True:\n",
    "            u.append(i)\n",
    "    return ''.join(u)"
   ]
  },
  {
   "cell_type": "code",
   "execution_count": 78,
   "id": "5e4b5a5a-6763-4b1a-8157-f0f631c57735",
   "metadata": {},
   "outputs": [],
   "source": [
    "s=\"VAMSHIkrishna\""
   ]
  },
  {
   "cell_type": "code",
   "execution_count": 79,
   "id": "b5b476df-5b68-4dc1-9fe4-a4daf62c8cb3",
   "metadata": {},
   "outputs": [
    {
     "data": {
      "text/plain": [
       "'VAMSHI'"
      ]
     },
     "execution_count": 79,
     "metadata": {},
     "output_type": "execute_result"
    }
   ],
   "source": [
    "upper_str(s)"
   ]
  },
  {
   "cell_type": "code",
   "execution_count": null,
   "id": "8af6201c-672f-4652-9cab-5564a0ec7390",
   "metadata": {},
   "outputs": [],
   "source": [
    "27.extract no of lower case letters in a string"
   ]
  },
  {
   "cell_type": "code",
   "execution_count": 80,
   "id": "a4697a1a-77d5-4f97-a42f-f27bf9e13771",
   "metadata": {},
   "outputs": [],
   "source": [
    "def lower_str(s):\n",
    "    u=[]\n",
    "    for i in s:\n",
    "        if i.islower()==True:\n",
    "            u.append(i)\n",
    "    return ''.join(u)"
   ]
  },
  {
   "cell_type": "code",
   "execution_count": 81,
   "id": "e705efa0-9da6-4e5e-940d-2e75c73a2aac",
   "metadata": {},
   "outputs": [
    {
     "data": {
      "text/plain": [
       "'krishna'"
      ]
     },
     "execution_count": 81,
     "metadata": {},
     "output_type": "execute_result"
    }
   ],
   "source": [
    "lower_str(s)"
   ]
  },
  {
   "cell_type": "code",
   "execution_count": null,
   "id": "e0b5d26c-1156-4729-91ea-221fbe66024c",
   "metadata": {},
   "outputs": [],
   "source": [
    "28.swap the case of each character in a string"
   ]
  },
  {
   "cell_type": "code",
   "execution_count": 86,
   "id": "0316b12c-b62c-48c2-b869-c0a98eb5d061",
   "metadata": {},
   "outputs": [],
   "source": [
    "def swap_char(s):\n",
    "    u=[]\n",
    "    for i in s:\n",
    "        if i.islower()==True:\n",
    "            i=i.upper()\n",
    "        else:\n",
    "            i=i.lower()\n",
    "        u.append(i)\n",
    "    return ''.join(u)"
   ]
  },
  {
   "cell_type": "code",
   "execution_count": 87,
   "id": "4c17b110-a9ab-4257-a266-e86a2bb99d2a",
   "metadata": {},
   "outputs": [
    {
     "data": {
      "text/plain": [
       "'vamshiKRISHNA'"
      ]
     },
     "execution_count": 87,
     "metadata": {},
     "output_type": "execute_result"
    }
   ],
   "source": [
    "swap_char(s)"
   ]
  },
  {
   "cell_type": "code",
   "execution_count": 91,
   "id": "a91dda6e-6dc9-4389-8d93-a6a6df556cc9",
   "metadata": {},
   "outputs": [
    {
     "data": {
      "text/plain": [
       "'vamshiKRISHNA'"
      ]
     },
     "execution_count": 91,
     "metadata": {},
     "output_type": "execute_result"
    }
   ],
   "source": [
    "#or       \n",
    "s.swapcase()"
   ]
  },
  {
   "cell_type": "code",
   "execution_count": null,
   "id": "2597fd35-e3c8-46f0-abbc-1d3d526ed44a",
   "metadata": {},
   "outputs": [],
   "source": [
    "29.remove a specific word from a string"
   ]
  },
  {
   "cell_type": "code",
   "execution_count": 5,
   "id": "47aa43ba-62ac-4008-a25f-d29f06bfe97b",
   "metadata": {},
   "outputs": [],
   "source": [
    "s=\"Vamshi krishna is good boy\""
   ]
  },
  {
   "cell_type": "code",
   "execution_count": 29,
   "id": "7c0ee550-cb44-4fd6-b14b-6cb0c06ef93f",
   "metadata": {},
   "outputs": [],
   "source": [
    "def word(a):\n",
    "    b=a.split()\n",
    "    if \"krishna\" in b:\n",
    "        b.remove(\"krishna\")\n",
    "    return ' '.join(b)\n",
    "        "
   ]
  },
  {
   "cell_type": "code",
   "execution_count": 30,
   "id": "d2598a7b-0872-4728-98c8-d18aad838a4a",
   "metadata": {},
   "outputs": [],
   "source": [
    "s=\"Vamshi krishna is good boy\""
   ]
  },
  {
   "cell_type": "code",
   "execution_count": 31,
   "id": "ed197c9c-2ecc-42e1-9108-e7b9dcd0b4b8",
   "metadata": {},
   "outputs": [
    {
     "data": {
      "text/plain": [
       "'Vamshi is good boy'"
      ]
     },
     "execution_count": 31,
     "metadata": {},
     "output_type": "execute_result"
    }
   ],
   "source": [
    "word(s)"
   ]
  },
  {
   "cell_type": "code",
   "execution_count": 35,
   "id": "b8d79628-ebfb-4b2b-8043-c3c7b093f425",
   "metadata": {},
   "outputs": [
    {
     "data": {
      "text/plain": [
       "'Vamshi is good boy'"
      ]
     },
     "execution_count": 35,
     "metadata": {},
     "output_type": "execute_result"
    }
   ],
   "source": [
    "#or\n",
    "s.replace(\" krishna\",'')"
   ]
  },
  {
   "cell_type": "code",
   "execution_count": null,
   "id": "e78ccdac-0895-4a32-bb4f-a59649a41f57",
   "metadata": {},
   "outputs": [],
   "source": [
    "30.check if a string is a valid email address"
   ]
  },
  {
   "cell_type": "code",
   "execution_count": 41,
   "id": "4b731453-63b9-4e6a-ba29-69b45a6cce60",
   "metadata": {},
   "outputs": [],
   "source": [
    "email_list=[\"vamshi@gmail.com\",\"krishna@email.com\",\"abc.example.com\"]\n",
    "\n",
    "def email():\n",
    "    a=input(\"enter  email\")\n",
    "    if a in email_list:\n",
    "        return \"valid\"\n",
    "    else:\n",
    "        return \"invalid\"\n"
   ]
  },
  {
   "cell_type": "code",
   "execution_count": 42,
   "id": "7061b526-8b33-46ec-bf82-0532e1951cb9",
   "metadata": {},
   "outputs": [
    {
     "name": "stdin",
     "output_type": "stream",
     "text": [
      "enter  email abc@example.com\n"
     ]
    },
    {
     "data": {
      "text/plain": [
       "'invalid'"
      ]
     },
     "execution_count": 42,
     "metadata": {},
     "output_type": "execute_result"
    }
   ],
   "source": [
    "email()"
   ]
  },
  {
   "cell_type": "code",
   "execution_count": 66,
   "id": "0f06cab2-6574-4c72-a440-eb50960fc6e0",
   "metadata": {},
   "outputs": [],
   "source": [
    "#or check pattern of email\n",
    "def valid_email(email:str):\n",
    "    if email[0].isalpha() and all(char in email for char in['','@',\".com\",\"gmail\"]) and all(char not in email for char in[\" \",\"'\",\"/\",\"=\",'\"',\"\\\\\"])  :\n",
    "        return \"valid\"\n",
    "    else:\n",
    "        return \"invalid\"\n"
   ]
  },
  {
   "cell_type": "code",
   "execution_count": 71,
   "id": "c6e852f4-e44f-4e10-af1e-d6997e7db8af",
   "metadata": {},
   "outputs": [
    {
     "data": {
      "text/plain": [
       "'valid'"
      ]
     },
     "execution_count": 71,
     "metadata": {},
     "output_type": "execute_result"
    }
   ],
   "source": [
    "valid_email(\"vamshi@gmail.com\")"
   ]
  },
  {
   "cell_type": "code",
   "execution_count": 69,
   "id": "8067b443-272b-4eba-ba54-cf3f28d3b036",
   "metadata": {},
   "outputs": [
    {
     "data": {
      "text/plain": [
       "'invalid'"
      ]
     },
     "execution_count": 69,
     "metadata": {},
     "output_type": "execute_result"
    }
   ],
   "source": [
    "valid_email(\"vamshi@gmailcom\")"
   ]
  },
  {
   "cell_type": "code",
   "execution_count": 72,
   "id": "87af9fef-7cc1-4685-8598-0dc0a2eee6cc",
   "metadata": {},
   "outputs": [
    {
     "data": {
      "text/plain": [
       "'invalid'"
      ]
     },
     "execution_count": 72,
     "metadata": {},
     "output_type": "execute_result"
    }
   ],
   "source": [
    "valid_email(\"vamshi @gmail.com\")"
   ]
  },
  {
   "cell_type": "code",
   "execution_count": null,
   "id": "29ef643b-c357-4625-a0a8-1c9e2ea7cb97",
   "metadata": {},
   "outputs": [],
   "source": [
    "31.extract the username from an email address string"
   ]
  },
  {
   "cell_type": "code",
   "execution_count": 55,
   "id": "80662580-97aa-4f54-a798-9f26fba953b5",
   "metadata": {},
   "outputs": [],
   "source": [
    "\n",
    "def extract_username(email:str):\n",
    "    if \"@\" in email and email.endswith(\".com\") :\n",
    "        username=\"\"\n",
    "        for char in email:\n",
    "            if char==\"@\":\n",
    "                break\n",
    "            username=username+char\n",
    "        return username\n",
    "    else:\n",
    "        return \"invalid\"\n",
    "    \n",
    "    \n",
    "        \n",
    "        \n",
    "            \n"
   ]
  },
  {
   "cell_type": "code",
   "execution_count": 56,
   "id": "0398b654-d21f-4e7b-89ff-34a96df2fb03",
   "metadata": {},
   "outputs": [
    {
     "data": {
      "text/plain": [
       "'vamshi'"
      ]
     },
     "execution_count": 56,
     "metadata": {},
     "output_type": "execute_result"
    }
   ],
   "source": [
    "extract_username(\"vamshi@gmail.com\")"
   ]
  },
  {
   "cell_type": "code",
   "execution_count": null,
   "id": "56bddc21-74d1-4f4d-861a-e3fc48b978c2",
   "metadata": {},
   "outputs": [],
   "source": [
    "32..extract the domain name from a email address string"
   ]
  },
  {
   "cell_type": "code",
   "execution_count": 91,
   "id": "7da4eb16-7cb9-47db-bae0-6642992cfaaa",
   "metadata": {},
   "outputs": [],
   "source": [
    "\n",
    "def extract_username(email:str):\n",
    "    if \"@\" in email and email.endswith(\".com\") :\n",
    "        a=email.split(\"@\")\n",
    "        return a[1]\n",
    "    else:\n",
    "        return \"invalid\"\n"
   ]
  },
  {
   "cell_type": "code",
   "execution_count": 92,
   "id": "402735ee-f8d6-4106-acb0-082f76210939",
   "metadata": {},
   "outputs": [
    {
     "data": {
      "text/plain": [
       "'gmail.com'"
      ]
     },
     "execution_count": 92,
     "metadata": {},
     "output_type": "execute_result"
    }
   ],
   "source": [
    "extract_username(\"vamshi@gmail.com\")"
   ]
  },
  {
   "cell_type": "code",
   "execution_count": null,
   "id": "c8903d91-74f0-4c76-8a1e-71cac00ea66b",
   "metadata": {},
   "outputs": [],
   "source": [
    "33.Replace multiple spaces in a string with asingle space"
   ]
  },
  {
   "cell_type": "code",
   "execution_count": 2,
   "id": "02be593f-f18f-4a1c-b3b3-331148d587d7",
   "metadata": {},
   "outputs": [
    {
     "data": {
      "text/plain": [
       "'vam shi'"
      ]
     },
     "execution_count": 2,
     "metadata": {},
     "output_type": "execute_result"
    }
   ],
   "source": [
    "a=\"vam  shi\"\n",
    "a.replace(\"  \",\" \")"
   ]
  },
  {
   "cell_type": "code",
   "execution_count": null,
   "id": "39a82aa8-c5d4-4315-999b-2bda1aa5e580",
   "metadata": {},
   "outputs": [],
   "source": [
    "34.check if a string is avalid url"
   ]
  },
  {
   "cell_type": "code",
   "execution_count": 12,
   "id": "8e35a0f4-5eb2-4212-977b-a680aae9cb28",
   "metadata": {},
   "outputs": [],
   "source": [
    "def check_URL(s:str):\n",
    "    if s[0].isalpha() and all(char in s for char in['http://']):\n",
    "        return \"valid\"\n",
    "    else:\n",
    "        return \"invalid\""
   ]
  },
  {
   "cell_type": "code",
   "execution_count": 13,
   "id": "bf0fe040-6d1b-4ab1-adf8-8ef68915598b",
   "metadata": {},
   "outputs": [
    {
     "data": {
      "text/plain": [
       "'invalid'"
      ]
     },
     "execution_count": 13,
     "metadata": {},
     "output_type": "execute_result"
    }
   ],
   "source": [
    "check_URL(\"https://yellow-optician-bjjqm.pwskills.app/lab/tree/work/Assignment%202.ipynb\")"
   ]
  },
  {
   "cell_type": "markdown",
   "id": "dfbe91bc-3397-4345-8d7d-c61ff0b9943b",
   "metadata": {},
   "source": [
    "35.extract protocol (http or https) from a URL string"
   ]
  },
  {
   "cell_type": "code",
   "execution_count": 80,
   "id": "b9f3c7eb-491d-448d-a10c-666b68e28cea",
   "metadata": {},
   "outputs": [
    {
     "name": "stdout",
     "output_type": "stream",
     "text": [
      "Protocol: https\n"
     ]
    }
   ],
   "source": [
    "from urllib.parse import urlparse\n",
    "\n",
    "def extract_protocol(url):\n",
    "    parsed_url = urlparse(url)\n",
    "    return parsed_url.scheme\n",
    "\n",
    "\n",
    "url = \"https://yellow-optician-bjjqm.pwskills.app/lab/tree/work/data%20types%20assignment.ipynb\"\n",
    "protocol = extract_protocol(url)\n",
    "print(\"Protocol:\", protocol)\n"
   ]
  },
  {
   "cell_type": "code",
   "execution_count": null,
   "id": "39a60bf5-f15e-4cb3-af48-cfd11a3126ab",
   "metadata": {},
   "outputs": [],
   "source": [
    "36.Find the frequency of each character in a string"
   ]
  },
  {
   "cell_type": "code",
   "execution_count": 3,
   "id": "b6623bb3-ad27-47c1-ae5a-77c1507956cc",
   "metadata": {},
   "outputs": [],
   "source": [
    "\n",
    "def frequency(s,v):\n",
    "    count =0\n",
    "    for i in a:\n",
    "        if i==v:\n",
    "            count=count+1\n",
    "    return count\n",
    "        "
   ]
  },
  {
   "cell_type": "code",
   "execution_count": 4,
   "id": "0f2b6ad8-3087-493c-8344-3af7a0c49229",
   "metadata": {},
   "outputs": [],
   "source": [
    "s=\"aaabbb\""
   ]
  },
  {
   "cell_type": "code",
   "execution_count": 6,
   "id": "ba15a40a-3f65-480c-8bee-18dcb88718c3",
   "metadata": {},
   "outputs": [
    {
     "data": {
      "text/plain": [
       "3"
      ]
     },
     "execution_count": 6,
     "metadata": {},
     "output_type": "execute_result"
    }
   ],
   "source": [
    "frequency(s,\"a\")"
   ]
  },
  {
   "cell_type": "code",
   "execution_count": null,
   "id": "7b839d4e-3001-46d2-8621-17bbd2fb8e3a",
   "metadata": {},
   "outputs": [],
   "source": [
    "37.remove all punctuation from a string."
   ]
  },
  {
   "cell_type": "code",
   "execution_count": 57,
   "id": "191d07df-450e-4df3-af24-ff23c2fe6e2a",
   "metadata": {},
   "outputs": [],
   "source": [
    "a=\"vamshi--//krishna\"\n"
   ]
  },
  {
   "cell_type": "code",
   "execution_count": 58,
   "id": "8e3f64ae-b9d2-44fe-aea1-bf10561797c1",
   "metadata": {},
   "outputs": [],
   "source": [
    "def remove_punctuations(s):\n",
    "    \n",
    "    punctuation_chars = \">,.!:;()-.../&@\"\n",
    "    result = \"\"\n",
    "    for char in s:\n",
    "        if char not in punctuation_chars:\n",
    "            \n",
    "            result = result+char\n",
    "\n",
    "    return result\n"
   ]
  },
  {
   "cell_type": "code",
   "execution_count": 59,
   "id": "c3e5d492-7dc7-4c53-ab34-3772c3d7aa40",
   "metadata": {},
   "outputs": [
    {
     "data": {
      "text/plain": [
       "'vamshikrishna'"
      ]
     },
     "execution_count": 59,
     "metadata": {},
     "output_type": "execute_result"
    }
   ],
   "source": [
    "remove_punctuations(a)"
   ]
  },
  {
   "cell_type": "markdown",
   "id": "b8392a9f-409e-494b-90c0-c15857ae5c66",
   "metadata": {},
   "source": [
    "38.check if a string contains only digits."
   ]
  },
  {
   "cell_type": "code",
   "execution_count": 102,
   "id": "49514e2c-f74b-4f2a-a7fd-a4263d3bee98",
   "metadata": {},
   "outputs": [],
   "source": [
    "def abc(a):\n",
    "    if a==\"\":\n",
    "        return \"yes\"\n",
    "    elif a[0].isnumeric():\n",
    "        return abc(a[1:])\n",
    "    else:\n",
    "        return \"no\""
   ]
  },
  {
   "cell_type": "code",
   "execution_count": 103,
   "id": "bd91351a-7bfe-40fc-bedd-c25abbb69ac3",
   "metadata": {},
   "outputs": [],
   "source": [
    "s=\"abc123\""
   ]
  },
  {
   "cell_type": "code",
   "execution_count": 104,
   "id": "2a22dfa3-933b-4437-a2fe-fd58af556c46",
   "metadata": {},
   "outputs": [
    {
     "data": {
      "text/plain": [
       "'no'"
      ]
     },
     "execution_count": 104,
     "metadata": {},
     "output_type": "execute_result"
    }
   ],
   "source": [
    "abc(s)"
   ]
  },
  {
   "cell_type": "code",
   "execution_count": 105,
   "id": "bf533c40-9f88-4293-a596-910f3c018380",
   "metadata": {},
   "outputs": [],
   "source": [
    "s=\"123\""
   ]
  },
  {
   "cell_type": "code",
   "execution_count": 106,
   "id": "9b977438-b7bd-49d5-8491-8e8f5ce3a5a2",
   "metadata": {},
   "outputs": [
    {
     "data": {
      "text/plain": [
       "'yes'"
      ]
     },
     "execution_count": 106,
     "metadata": {},
     "output_type": "execute_result"
    }
   ],
   "source": [
    "abc(s)"
   ]
  },
  {
   "cell_type": "code",
   "execution_count": null,
   "id": "7e59b9f6-0360-4122-bcc1-c4caa00e0a40",
   "metadata": {},
   "outputs": [],
   "source": [
    "39.check if a string contains only alphabets"
   ]
  },
  {
   "cell_type": "code",
   "execution_count": 107,
   "id": "df174196-6295-4b17-9d7a-d09eed782708",
   "metadata": {},
   "outputs": [],
   "source": [
    "def abc(a):\n",
    "    if a==\"\":\n",
    "        return \"yes\"\n",
    "    elif a[0].isalpha():\n",
    "        return abc(a[1:])\n",
    "    else:\n",
    "        return \"no\""
   ]
  },
  {
   "cell_type": "code",
   "execution_count": 108,
   "id": "78583a36-af83-425c-ab32-93e9113db13e",
   "metadata": {},
   "outputs": [
    {
     "data": {
      "text/plain": [
       "'no'"
      ]
     },
     "execution_count": 108,
     "metadata": {},
     "output_type": "execute_result"
    }
   ],
   "source": [
    "abc(s)"
   ]
  },
  {
   "cell_type": "code",
   "execution_count": 109,
   "id": "c5f7082c-b119-40b6-8a0c-fe7f740d5e3c",
   "metadata": {},
   "outputs": [],
   "source": [
    "s=\"vamshi\""
   ]
  },
  {
   "cell_type": "code",
   "execution_count": 111,
   "id": "1a168595-6ecf-49d4-b594-a835483bc925",
   "metadata": {},
   "outputs": [
    {
     "data": {
      "text/plain": [
       "'yes'"
      ]
     },
     "execution_count": 111,
     "metadata": {},
     "output_type": "execute_result"
    }
   ],
   "source": [
    "abc(s)"
   ]
  },
  {
   "cell_type": "markdown",
   "id": "fad8eb34-15e7-459b-968c-19834e833b4d",
   "metadata": {},
   "source": [
    "40.convert a string into a list of characters"
   ]
  },
  {
   "cell_type": "code",
   "execution_count": 9,
   "id": "633f9e92-422b-4c37-b804-e45f5546ea00",
   "metadata": {},
   "outputs": [],
   "source": [
    "def string_to_list(a):\n",
    "    l=[]\n",
    "    for i in a:\n",
    "        l.append(i)\n",
    "    return l"
   ]
  },
  {
   "cell_type": "code",
   "execution_count": 10,
   "id": "5ecf6cbc-2dcf-40b6-84b9-959715001025",
   "metadata": {},
   "outputs": [],
   "source": [
    "s=\"vamshi\"\n"
   ]
  },
  {
   "cell_type": "code",
   "execution_count": 11,
   "id": "3044692b-27b3-4ab4-aa61-48dc17f02d59",
   "metadata": {},
   "outputs": [
    {
     "data": {
      "text/plain": [
       "['v', 'a', 'm', 's', 'h', 'i']"
      ]
     },
     "execution_count": 11,
     "metadata": {},
     "output_type": "execute_result"
    }
   ],
   "source": [
    "string_to_list(s)"
   ]
  },
  {
   "cell_type": "code",
   "execution_count": 5,
   "id": "bf6f7ab0-6347-4adb-9558-f7b0c12e5df2",
   "metadata": {},
   "outputs": [
    {
     "data": {
      "text/plain": [
       "['v', 'a', 'm', 's', 'h', 'i']"
      ]
     },
     "execution_count": 5,
     "metadata": {},
     "output_type": "execute_result"
    }
   ],
   "source": [
    "list(s)"
   ]
  },
  {
   "cell_type": "code",
   "execution_count": null,
   "id": "739fd9b7-0407-44b8-808f-ed5b2d7ec218",
   "metadata": {},
   "outputs": [],
   "source": [
    "41.check if two strings are anagrams"
   ]
  },
  {
   "cell_type": "code",
   "execution_count": 18,
   "id": "706d0804-5b3c-43f8-bf36-fe9f2e124bb4",
   "metadata": {},
   "outputs": [],
   "source": [
    "def anagrams(s1,s2):\n",
    "    return sorted(s1)==sorted(s2)\n",
    "    "
   ]
  },
  {
   "cell_type": "code",
   "execution_count": 19,
   "id": "13991b56-4923-417c-9431-100d8413470c",
   "metadata": {},
   "outputs": [],
   "source": [
    "s1=\"vamshi\""
   ]
  },
  {
   "cell_type": "code",
   "execution_count": 20,
   "id": "ddbd13ef-8e91-4d45-96b0-75e8f75a2271",
   "metadata": {},
   "outputs": [],
   "source": [
    "s2=\"ishmav\""
   ]
  },
  {
   "cell_type": "code",
   "execution_count": 21,
   "id": "e9199b84-9334-417a-b08b-7829a0f6baa8",
   "metadata": {},
   "outputs": [
    {
     "data": {
      "text/plain": [
       "True"
      ]
     },
     "execution_count": 21,
     "metadata": {},
     "output_type": "execute_result"
    }
   ],
   "source": [
    "anagrams(s1,s2)"
   ]
  },
  {
   "cell_type": "markdown",
   "id": "d5e62275-ffe6-4389-8390-e2ee174656de",
   "metadata": {},
   "source": [
    "42.encode a string using a caesar cipher"
   ]
  },
  {
   "cell_type": "code",
   "execution_count": 21,
   "id": "9a5e4f12-fa4d-4a30-82e8-5fb45c62dc07",
   "metadata": {},
   "outputs": [
    {
     "name": "stdout",
     "output_type": "stream",
     "text": [
      "Encoded text: ydpvkl\n"
     ]
    }
   ],
   "source": [
    "def caesar_cipher_encode(text, shift):\n",
    "    result = \"\"\n",
    "    \n",
    "    for char in text:\n",
    "        if char.isalpha():\n",
    "            is_upper = char.isupper()\n",
    "            \n",
    "            shifted_char = chr((ord(char) - ord('A' if is_upper else 'a') + shift) % 26 + ord('A' if is_upper else 'a'))\n",
    "            \n",
    "            result += shifted_char\n",
    "        else:\n",
    "            result += char\n",
    "\n",
    "    return result\n",
    "\n",
    "encoded_text = caesar_cipher_encode(\"vamshi\", 3)\n",
    "print(\"Encoded text:\", encoded_text)\n"
   ]
  },
  {
   "cell_type": "code",
   "execution_count": null,
   "id": "259d9c66-7563-4736-b68b-74e5f19f11df",
   "metadata": {},
   "outputs": [],
   "source": [
    "43.decod e acaesar cipher encoded a strong"
   ]
  },
  {
   "cell_type": "code",
   "execution_count": 91,
   "id": "bfb9355d-3a8e-401a-a435-cb2b56b0b83e",
   "metadata": {},
   "outputs": [
    {
     "name": "stdout",
     "output_type": "stream",
     "text": [
      "Encoded: sxjpef\n",
      "Decoded: vamshi\n"
     ]
    }
   ],
   "source": [
    "def caesar_cipher(text, shift):\n",
    "    result = \"\"\n",
    "    for char in text:\n",
    "        if char.isalpha():  \n",
    "            shifted_char = chr((ord(char) - shift - ord('A' if char.isupper() else 'a')) % 26 + ord('A' if char.isupper() else 'a'))\n",
    "            result += shifted_char\n",
    "        else:\n",
    "            result += char\n",
    "    return result\n",
    "\n",
    "original_text = \"vamshi\"\n",
    "shift_amount = 3\n",
    "\n",
    "\n",
    "encoded_text = caesar_cipher(original_text, shift_amount)\n",
    "print(\"Encoded:\", encoded_text)\n",
    "\n",
    "decoded_text = caesar_cipher(encoded_text, -shift_amount)\n",
    "print(\"Decoded:\", decoded_text)\n"
   ]
  },
  {
   "cell_type": "code",
   "execution_count": null,
   "id": "00aa6efd-d728-4171-8d06-7d59e36a8e64",
   "metadata": {},
   "outputs": [],
   "source": [
    "44.find the most frequent word in a string"
   ]
  },
  {
   "cell_type": "code",
   "execution_count": 97,
   "id": "bcf6c92f-a8c1-478a-9efa-1650f1a9a721",
   "metadata": {},
   "outputs": [
    {
     "name": "stdout",
     "output_type": "stream",
     "text": [
      "Most frequent word: is\n",
      "Count: 3\n"
     ]
    }
   ],
   "source": [
    "def most_frequent_word(sentence):\n",
    "    words = sentence.lower().split()\n",
    "    most_common_word = max(set(words), key=words.count)\n",
    "    count = words.count(most_common_word)\n",
    "    return most_common_word, count\n",
    "\n",
    "\n",
    "text = \"This is a sample sentence. Another sentence is here. This sentence is a sample.\"\n",
    "result = most_frequent_word(text)\n",
    "\n",
    "print(\"Most frequent word:\", result[0])\n",
    "print(\"Count:\", result[1])\n"
   ]
  },
  {
   "cell_type": "code",
   "execution_count": null,
   "id": "ef3d2725-046a-4662-8956-84f7f7f8c341",
   "metadata": {},
   "outputs": [],
   "source": [
    "44.find unique words in a string"
   ]
  },
  {
   "cell_type": "code",
   "execution_count": 98,
   "id": "b821d59f-e9f8-4b8c-9dcb-b8c11c3b83b2",
   "metadata": {},
   "outputs": [
    {
     "name": "stdout",
     "output_type": "stream",
     "text": [
      "Unique words: {'here.', 'this', 'another', 'sample', 'sample.', 'sentence.', 'sentence', 'is', 'a'}\n"
     ]
    }
   ],
   "source": [
    "def unique_words(sentence):\n",
    "    words = sentence.lower().split()\n",
    "    unique_word_set = set(words)\n",
    "    return unique_word_set\n",
    "\n",
    "text = \"This is a sample sentence. Another sentence is here. This sentence is a sample.\"\n",
    "result = unique_words(text)\n",
    "\n",
    "print(\"Unique words:\", result)\n"
   ]
  },
  {
   "cell_type": "code",
   "execution_count": null,
   "id": "0f679866-2579-4f7d-9cbc-91f0811ad503",
   "metadata": {},
   "outputs": [],
   "source": [
    "45.find all unique words in a string"
   ]
  },
  {
   "cell_type": "code",
   "execution_count": 101,
   "id": "158be96e-9753-4412-9fb2-3a0b1009bfd4",
   "metadata": {},
   "outputs": [
    {
     "name": "stdout",
     "output_type": "stream",
     "text": [
      "All unique words: {'here.', 'this', 'another', 'sample', 'sample.', 'sentence.', 'sentence', 'is', 'a'}\n"
     ]
    }
   ],
   "source": [
    "def all_unique_words(sentence):\n",
    "    words = sentence.lower().split()\n",
    "    unique_words = set(words)\n",
    "    return unique_words\n",
    "\n",
    "\n",
    "text = \"This is a sample sentence. Another sentence is here. This sentence is a sample.\"\n",
    "result = all_unique_words(text)\n",
    "\n",
    "print(\"All unique words:\", result)\n"
   ]
  },
  {
   "cell_type": "code",
   "execution_count": null,
   "id": "3a6fe13a-3aae-4b74-af3e-ccb2152bcd51",
   "metadata": {},
   "outputs": [],
   "source": [
    "46.count the number of syllables in a string"
   ]
  },
  {
   "cell_type": "code",
   "execution_count": 105,
   "id": "86c259f3-a162-4cd9-8e42-2f116f2aa1c1",
   "metadata": {},
   "outputs": [
    {
     "name": "stdout",
     "output_type": "stream",
     "text": [
      "Requirement already satisfied: syllables in /opt/conda/lib/python3.10/site-packages (1.0.9)\n",
      "Requirement already satisfied: importlib-metadata<7.0,>=5.1 in /opt/conda/lib/python3.10/site-packages (from syllables) (5.1.0)\n",
      "Requirement already satisfied: cmudict<2.0.0,>=1.0.11 in /opt/conda/lib/python3.10/site-packages (from syllables) (1.0.15)\n",
      "Requirement already satisfied: importlib-resources<6.0.0,>=5.10.1 in /opt/conda/lib/python3.10/site-packages (from cmudict<2.0.0,>=1.0.11->syllables) (5.10.1)\n",
      "Requirement already satisfied: zipp>=0.5 in /opt/conda/lib/python3.10/site-packages (from importlib-metadata<7.0,>=5.1->syllables) (3.11.0)\n",
      "Total syllables in the sentence: 25\n"
     ]
    }
   ],
   "source": [
    "!pip install syllables  \n",
    "\n",
    "import syllables\n",
    "\n",
    "def count_syllables_in_sentence(sentence):\n",
    "    words = sentence.split()\n",
    "    total_syllables = sum(syllables.estimate(word) for word in words)\n",
    "    return total_syllables\n",
    "\n",
    "text = \"This is a sample sentence. Another sentence is here. This sentence is a sample.\"\n",
    "result = count_syllables_in_sentence(text)\n",
    "\n",
    "print(\"Total syllables in the sentence:\", result)\n",
    "\n"
   ]
  },
  {
   "cell_type": "code",
   "execution_count": null,
   "id": "13c419df-7088-440b-a0ee-12439c220444",
   "metadata": {},
   "outputs": [],
   "source": [
    "47.CHECK IF A STRING CONTAINS ANY SPECIAL CHARACTERS"
   ]
  },
  {
   "cell_type": "code",
   "execution_count": 106,
   "id": "aab782ec-e1d2-4209-93db-2a8e5911f526",
   "metadata": {},
   "outputs": [
    {
     "name": "stdout",
     "output_type": "stream",
     "text": [
      "The string contains special characters.\n"
     ]
    }
   ],
   "source": [
    "def contains_special_characters(s):\n",
    "\n",
    "    special_characters = set(\"!@#$%^&*()-_+=<>?,./;'\\\":|{}[]\\\\`~\")\n",
    "    for char in s:\n",
    "        if char in special_characters:\n",
    "            return True\n",
    "    return False\n",
    "\n",
    "text = \"This is a sample string with no special characters.\"\n",
    "result = contains_special_characters(text)\n",
    "\n",
    "if result:\n",
    "    print(\"The string contains special characters.\")\n",
    "else:\n",
    "    print(\"The string does not contain any special characters.\")\n"
   ]
  },
  {
   "cell_type": "code",
   "execution_count": null,
   "id": "cdf88729-2dac-4f4a-b7a5-40776cab9249",
   "metadata": {},
   "outputs": [],
   "source": [
    "48. REMOVE THE NTH WORD FROM A STRING"
   ]
  },
  {
   "cell_type": "code",
   "execution_count": 107,
   "id": "0d02ea52-f7ca-4eab-bbf6-6ed14f992cdc",
   "metadata": {},
   "outputs": [
    {
     "name": "stdout",
     "output_type": "stream",
     "text": [
      "Original sentence: This is a sample sentence. Another sentence is here. This sentence is a sample.\n",
      "Sentence after removing the 3th word: This is sample sentence. Another sentence is here. This sentence is a sample.\n"
     ]
    }
   ],
   "source": [
    "def remove_nth_word(sentence, n):\n",
    "    words = sentence.split()\n",
    "    if 1 <= n <= len(words):\n",
    "        del words[n - 1]\n",
    "    return ' '.join(words)\n",
    "\n",
    "text = \"This is a sample sentence. Another sentence is here. This sentence is a sample.\"\n",
    "n = 3\n",
    "result = remove_nth_word(text, n)\n",
    "\n",
    "print(\"Original sentence:\", text)\n",
    "print(f\"Sentence after removing the {n}th word:\", result)\n"
   ]
  },
  {
   "cell_type": "code",
   "execution_count": null,
   "id": "05426346-85a8-4c03-bf1d-10391a7627d7",
   "metadata": {},
   "outputs": [],
   "source": [
    "49.INSERT A WORD AT THE NTH POSITION IN A STRING"
   ]
  },
  {
   "cell_type": "code",
   "execution_count": 108,
   "id": "78b0fdf3-fab6-4f68-9f80-c646f2a19f4c",
   "metadata": {},
   "outputs": [
    {
     "name": "stdout",
     "output_type": "stream",
     "text": [
      "Original sentence: This is a sample sentence. Another sentence is here. This sentence is a sample.\n",
      "Sentence after inserting 'new' at position 3: This is a new sample sentence. Another sentence is here. This sentence is a sample.\n"
     ]
    }
   ],
   "source": [
    "def insert_word_at_position(sentence, n, new_word):\n",
    "    words = sentence.split()\n",
    "\n",
    "    if 0 <= n <= len(words):\n",
    "        words.insert(n, new_word)\n",
    "\n",
    "    result = ' '.join(words)\n",
    "    return result\n",
    "\n",
    "text = \"This is a sample sentence. Another sentence is here. This sentence is a sample.\"\n",
    "n = 3\n",
    "new_word = \"new\"\n",
    "result = insert_word_at_position(text, n, new_word)\n",
    "\n",
    "print(\"Original sentence:\", text)\n",
    "print(f\"Sentence after inserting '{new_word}' at position {n}:\", result)\n"
   ]
  },
  {
   "cell_type": "code",
   "execution_count": null,
   "id": "07a20792-7b7c-49de-ba5d-18343459653f",
   "metadata": {},
   "outputs": [],
   "source": [
    "50.CONVERT A CSV STRING TO A LIST OF LISTS"
   ]
  },
  {
   "cell_type": "code",
   "execution_count": 109,
   "id": "b8f26b9d-caff-48e5-9867-33d928a6cf65",
   "metadata": {},
   "outputs": [
    {
     "name": "stdout",
     "output_type": "stream",
     "text": [
      "Simple CSV List:\n",
      "['1', 'John', 'Doe']\n",
      "['2', 'Jane', 'Smith']\n",
      "['3', 'Bob', 'Johnson']\n"
     ]
    }
   ],
   "source": [
    "def csv_string_to_list_simple(csv_string):\n",
    "    csv_list = [row.split(',') for row in csv_string.split('\\n') if row]\n",
    "    return csv_list\n",
    "\n",
    "csv_string = \"1,John,Doe\\n2,Jane,Smith\\n3,Bob,Johnson\"\n",
    "result_simple = csv_string_to_list_simple(csv_string)\n",
    "\n",
    "print(\"Simple CSV List:\")\n",
    "for row in result_simple:\n",
    "    print(row)\n"
   ]
  },
  {
   "cell_type": "code",
   "execution_count": null,
   "id": "efdde026-e642-4440-bd00-7b5e1a015b1b",
   "metadata": {},
   "outputs": [],
   "source": [
    "************************LIST***********************************"
   ]
  },
  {
   "cell_type": "code",
   "execution_count": null,
   "id": "ec259def-9ebe-4ab5-a1bd-a3d314430875",
   "metadata": {},
   "outputs": [],
   "source": [
    "1.CREATE A LIST WITH INTEGERS FROM 1 TO 10"
   ]
  },
  {
   "cell_type": "code",
   "execution_count": 86,
   "id": "51a527f1-bb5d-4a25-a1d1-313f5573e0e6",
   "metadata": {},
   "outputs": [],
   "source": [
    "list = [1,2,3,4,5,6,7,8,9,10]"
   ]
  },
  {
   "cell_type": "code",
   "execution_count": 211,
   "id": "5cb95833-84b0-4f24-ad0d-c87f2cbe9f8f",
   "metadata": {},
   "outputs": [
    {
     "name": "stdout",
     "output_type": "stream",
     "text": [
      "[1, 2, 3, 4, 5, 6, 7, 8, 9, 10]\n"
     ]
    }
   ],
   "source": [
    "a=[]\n",
    "for i in range(1,11):\n",
    "    a.append(i)\n",
    "print(a)"
   ]
  },
  {
   "cell_type": "markdown",
   "id": "59680100-062e-4596-8610-2a5fb1d4000e",
   "metadata": {},
   "source": [
    "2.FIND THE LENGTH OF LIST WITHOUT USING THE LEN() function"
   ]
  },
  {
   "cell_type": "code",
   "execution_count": 96,
   "id": "e55672ca-d8b3-4193-9d2f-3711020ba792",
   "metadata": {},
   "outputs": [],
   "source": [
    "def len_list(a):\n",
    "    count=0\n",
    "    for i in a:\n",
    "        count=count+1\n",
    "    return count\n",
    "        "
   ]
  },
  {
   "cell_type": "code",
   "execution_count": 97,
   "id": "2b9fb8d9-018c-49c7-907e-444df881e000",
   "metadata": {},
   "outputs": [
    {
     "data": {
      "text/plain": [
       "10"
      ]
     },
     "execution_count": 97,
     "metadata": {},
     "output_type": "execute_result"
    }
   ],
   "source": [
    "len_list(list)"
   ]
  },
  {
   "cell_type": "code",
   "execution_count": null,
   "id": "126747ed-2bb7-414c-8d06-0811f914e59a",
   "metadata": {},
   "outputs": [],
   "source": [
    "3.APPEND AN ELEMENT TO THE END OF LIST"
   ]
  },
  {
   "cell_type": "code",
   "execution_count": 98,
   "id": "cd750b20-d2cb-4a41-b52a-6dae1ec23d5b",
   "metadata": {},
   "outputs": [],
   "source": [
    "list.append(11)"
   ]
  },
  {
   "cell_type": "code",
   "execution_count": 100,
   "id": "1076a7b2-f492-4c1d-a352-fe31defd70de",
   "metadata": {},
   "outputs": [
    {
     "data": {
      "text/plain": [
       "[1, 2, 3, 4, 5, 6, 7, 8, 9, 10, 11]"
      ]
     },
     "execution_count": 100,
     "metadata": {},
     "output_type": "execute_result"
    }
   ],
   "source": [
    "list"
   ]
  },
  {
   "cell_type": "code",
   "execution_count": null,
   "id": "c78e5989-c2df-4ff1-b21f-68bc2b9e4533",
   "metadata": {},
   "outputs": [],
   "source": [
    "4.INSERT AN ELEMENT AT A SPECIFIC INDEX IN A LIST"
   ]
  },
  {
   "cell_type": "code",
   "execution_count": 102,
   "id": "ba0d8c6f-bd2b-4dd2-a20a-f126b6926c77",
   "metadata": {},
   "outputs": [],
   "source": [
    "list.insert(5,\"vamshi\")"
   ]
  },
  {
   "cell_type": "code",
   "execution_count": 103,
   "id": "67e52d52-76d3-488b-af57-1e3b29280e93",
   "metadata": {},
   "outputs": [
    {
     "data": {
      "text/plain": [
       "[1, 2, 3, 4, 5, 'vamshi', 6, 7, 8, 9, 10, 11]"
      ]
     },
     "execution_count": 103,
     "metadata": {},
     "output_type": "execute_result"
    }
   ],
   "source": [
    "list"
   ]
  },
  {
   "cell_type": "code",
   "execution_count": null,
   "id": "408d8823-6902-4e65-9fc0-774d1ccabd5f",
   "metadata": {},
   "outputs": [],
   "source": [
    "5.remove an element from a list by its value"
   ]
  },
  {
   "cell_type": "code",
   "execution_count": 106,
   "id": "65a69e60-4565-4623-affd-0fc7229b6c72",
   "metadata": {},
   "outputs": [],
   "source": [
    "list.remove(\"vamshi\")"
   ]
  },
  {
   "cell_type": "code",
   "execution_count": 107,
   "id": "6b99e777-8df6-49d1-8da4-12e360549cd5",
   "metadata": {},
   "outputs": [
    {
     "data": {
      "text/plain": [
       "[1, 2, 3, 4, 6, 7, 8, 9, 10, 11]"
      ]
     },
     "execution_count": 107,
     "metadata": {},
     "output_type": "execute_result"
    }
   ],
   "source": [
    "list"
   ]
  },
  {
   "cell_type": "code",
   "execution_count": null,
   "id": "16a33346-b6fe-4ba2-b38e-269b29228b5c",
   "metadata": {},
   "outputs": [],
   "source": [
    "6.remove an element from a list by its index"
   ]
  },
  {
   "cell_type": "code",
   "execution_count": 114,
   "id": "3c21d4e1-43c3-4963-a49c-a0ac136d7462",
   "metadata": {},
   "outputs": [],
   "source": [
    "list.remove(list[2])"
   ]
  },
  {
   "cell_type": "code",
   "execution_count": 115,
   "id": "fa7624b6-e582-428e-92d0-abae5e8286b9",
   "metadata": {},
   "outputs": [
    {
     "data": {
      "text/plain": [
       "[2, 4, 8, 9, 10, 11]"
      ]
     },
     "execution_count": 115,
     "metadata": {},
     "output_type": "execute_result"
    }
   ],
   "source": [
    "list"
   ]
  },
  {
   "cell_type": "code",
   "execution_count": null,
   "id": "30ff1f82-4c12-4776-a87d-6c2ceebe906b",
   "metadata": {},
   "outputs": [],
   "source": [
    "7.CHECK IF AN ELEMENT EXISTS IN A LIST"
   ]
  },
  {
   "cell_type": "code",
   "execution_count": 134,
   "id": "6b983823-f27a-4e6d-a1f3-73cac3f503f8",
   "metadata": {},
   "outputs": [],
   "source": [
    "def check_num_exist(a):\n",
    "    for i in list:\n",
    "        if i==5:\n",
    "            return \"exists\"\n",
    "        else:\n",
    "            return \"not exist\""
   ]
  },
  {
   "cell_type": "code",
   "execution_count": 135,
   "id": "c6f53830-83fe-48e5-8a48-9fe64456e2ad",
   "metadata": {},
   "outputs": [
    {
     "data": {
      "text/plain": [
       "'not exist'"
      ]
     },
     "execution_count": 135,
     "metadata": {},
     "output_type": "execute_result"
    }
   ],
   "source": [
    "check_num_exist(list)"
   ]
  },
  {
   "cell_type": "code",
   "execution_count": null,
   "id": "939ecabb-b3ac-4ea2-a9e0-88d252e9253d",
   "metadata": {},
   "outputs": [],
   "source": [
    "8.find the index of first occurence of an element in a list"
   ]
  },
  {
   "cell_type": "code",
   "execution_count": 136,
   "id": "3cfd6e65-7234-430e-adfb-9a3d60e96cc5",
   "metadata": {},
   "outputs": [
    {
     "data": {
      "text/plain": [
       "2"
      ]
     },
     "execution_count": 136,
     "metadata": {},
     "output_type": "execute_result"
    }
   ],
   "source": [
    "list[0]"
   ]
  },
  {
   "cell_type": "code",
   "execution_count": null,
   "id": "5f1b3866-28e0-4306-8eb1-7c32225bc212",
   "metadata": {},
   "outputs": [],
   "source": [
    "9.count the occurences of an elemnt in a list"
   ]
  },
  {
   "cell_type": "code",
   "execution_count": 137,
   "id": "c0ff63b0-eedd-4b7d-832c-6311f54f7b9e",
   "metadata": {},
   "outputs": [],
   "source": [
    "list=[1,1,2,3,4,5]"
   ]
  },
  {
   "cell_type": "code",
   "execution_count": 141,
   "id": "97f3f6f5-507c-4bcb-82f6-98388b20f7ae",
   "metadata": {},
   "outputs": [
    {
     "data": {
      "text/plain": [
       "2"
      ]
     },
     "execution_count": 141,
     "metadata": {},
     "output_type": "execute_result"
    }
   ],
   "source": [
    "list.count(1)"
   ]
  },
  {
   "cell_type": "code",
   "execution_count": null,
   "id": "764f8012-e7f0-4946-8fb9-d4e2a4e65c92",
   "metadata": {},
   "outputs": [],
   "source": [
    "10.reverse the order of elements in a lsit"
   ]
  },
  {
   "cell_type": "code",
   "execution_count": 142,
   "id": "5cb022af-f2a6-4de3-a765-f1944013b3dc",
   "metadata": {},
   "outputs": [
    {
     "data": {
      "text/plain": [
       "[5, 4, 3, 2, 1, 1]"
      ]
     },
     "execution_count": 142,
     "metadata": {},
     "output_type": "execute_result"
    }
   ],
   "source": [
    "list[::-1]"
   ]
  },
  {
   "cell_type": "code",
   "execution_count": null,
   "id": "0534fad7-c1bd-4d4b-99c7-14a7499a4cbc",
   "metadata": {},
   "outputs": [],
   "source": [
    "11.sort a list in asacending order"
   ]
  },
  {
   "cell_type": "code",
   "execution_count": 145,
   "id": "b4ea702a-faf8-4387-bfa0-2e66e14de381",
   "metadata": {},
   "outputs": [],
   "source": [
    "list2=[1,4,5,32,77,5]"
   ]
  },
  {
   "cell_type": "code",
   "execution_count": 146,
   "id": "139f1d06-49c3-4252-b88c-433442e9ccaf",
   "metadata": {},
   "outputs": [],
   "source": [
    "list2.sort()"
   ]
  },
  {
   "cell_type": "code",
   "execution_count": 147,
   "id": "16180f14-b44f-47b7-974c-632cda8b63cc",
   "metadata": {},
   "outputs": [
    {
     "data": {
      "text/plain": [
       "[1, 4, 5, 5, 32, 77]"
      ]
     },
     "execution_count": 147,
     "metadata": {},
     "output_type": "execute_result"
    }
   ],
   "source": [
    "list2"
   ]
  },
  {
   "cell_type": "code",
   "execution_count": null,
   "id": "d9c201a5-bfc3-45cf-bb89-bae12a4c54da",
   "metadata": {},
   "outputs": [],
   "source": [
    "12.sort a list in descending order"
   ]
  },
  {
   "cell_type": "code",
   "execution_count": 151,
   "id": "8658a738-8f8e-47d0-9398-8131c96f46e9",
   "metadata": {},
   "outputs": [],
   "source": [
    "list2.sort(reverse=True)"
   ]
  },
  {
   "cell_type": "code",
   "execution_count": 152,
   "id": "9955f0fa-9fbe-45b4-b20b-c86f96109bf2",
   "metadata": {},
   "outputs": [
    {
     "data": {
      "text/plain": [
       "[77, 32, 5, 5, 4, 1]"
      ]
     },
     "execution_count": 152,
     "metadata": {},
     "output_type": "execute_result"
    }
   ],
   "source": [
    "list2"
   ]
  },
  {
   "cell_type": "code",
   "execution_count": null,
   "id": "ed1f256b-42ff-40e3-8735-acf749aeddea",
   "metadata": {},
   "outputs": [],
   "source": [
    "13.create a list of even number from 1 to 20"
   ]
  },
  {
   "cell_type": "code",
   "execution_count": 181,
   "id": "bfe1e1ed-64e4-4f52-bb40-3b09ccdf2d5f",
   "metadata": {},
   "outputs": [
    {
     "name": "stdout",
     "output_type": "stream",
     "text": [
      "[2, 4, 6, 8, 10, 12, 14, 16, 18, 20]\n"
     ]
    }
   ],
   "source": [
    "\n",
    "b=[]\n",
    "for i in range(1,21):\n",
    "    if i%2==0:\n",
    "        b.append(i)\n",
    "print(b)"
   ]
  },
  {
   "cell_type": "code",
   "execution_count": null,
   "id": "e33171d3-5ee5-4d95-bd4a-20dd4a3f5932",
   "metadata": {},
   "outputs": [],
   "source": [
    "14.cretae a list of odd numbers from 1 to 20"
   ]
  },
  {
   "cell_type": "code",
   "execution_count": 187,
   "id": "efc3981b-277f-4939-afb7-b1c035f8e96f",
   "metadata": {},
   "outputs": [
    {
     "name": "stdout",
     "output_type": "stream",
     "text": [
      "[1, 3, 5, 7, 9, 11, 13, 15, 17, 19]\n"
     ]
    }
   ],
   "source": [
    "odd_numbers_list=[x for x in range(1,21) if x%2!=0]\n",
    "print(odd_numbers_list)"
   ]
  },
  {
   "cell_type": "markdown",
   "id": "956ba10f-5fc9-47c5-9ab7-e14f8968ae02",
   "metadata": {},
   "source": [
    "15.find the sum of all elemnts in a lsit"
   ]
  },
  {
   "cell_type": "code",
   "execution_count": 188,
   "id": "05e87ad2-c49b-4bcf-964d-8552649f6707",
   "metadata": {},
   "outputs": [],
   "source": [
    "list3=[1,2,3,4,5]"
   ]
  },
  {
   "cell_type": "code",
   "execution_count": 194,
   "id": "bc6f4bae-c304-4e45-aa13-e99291e47f03",
   "metadata": {},
   "outputs": [],
   "source": [
    "def sum_(a):\n",
    "    if a==[]:\n",
    "        return 0\n",
    "    else:\n",
    "        return a[0]+ sum_(a[1:])"
   ]
  },
  {
   "cell_type": "code",
   "execution_count": 196,
   "id": "ec482b63-7988-400f-a5ce-85ce6a81f7ef",
   "metadata": {},
   "outputs": [
    {
     "data": {
      "text/plain": [
       "15"
      ]
     },
     "execution_count": 196,
     "metadata": {},
     "output_type": "execute_result"
    }
   ],
   "source": [
    "sum(list3)"
   ]
  },
  {
   "cell_type": "code",
   "execution_count": null,
   "id": "bfba52d0-54af-433b-96c9-0678e4317551",
   "metadata": {},
   "outputs": [],
   "source": [
    "16,find the maximum value in  a list"
   ]
  },
  {
   "cell_type": "code",
   "execution_count": 208,
   "id": "030d165e-4fd4-404d-bce7-d8d06ce30641",
   "metadata": {},
   "outputs": [
    {
     "data": {
      "text/plain": [
       "5"
      ]
     },
     "execution_count": 208,
     "metadata": {},
     "output_type": "execute_result"
    }
   ],
   "source": [
    "max(list3)"
   ]
  },
  {
   "cell_type": "code",
   "execution_count": null,
   "id": "ac4ba2d0-c94b-421b-8b18-23059d2143e6",
   "metadata": {},
   "outputs": [],
   "source": [
    "17.find the minimum value in a list"
   ]
  },
  {
   "cell_type": "code",
   "execution_count": 209,
   "id": "612de52d-1041-46b7-a6a2-5cf0d93b4ac6",
   "metadata": {},
   "outputs": [
    {
     "data": {
      "text/plain": [
       "1"
      ]
     },
     "execution_count": 209,
     "metadata": {},
     "output_type": "execute_result"
    }
   ],
   "source": [
    "min(list3)"
   ]
  },
  {
   "cell_type": "code",
   "execution_count": null,
   "id": "30e21530-707b-47b5-bfa8-2db122031e71",
   "metadata": {},
   "outputs": [],
   "source": [
    "18.create a list of squares of numbers from 1 to 10"
   ]
  },
  {
   "cell_type": "code",
   "execution_count": 210,
   "id": "dfc180b0-ea88-42d2-830b-bfb9a81a2e6e",
   "metadata": {},
   "outputs": [
    {
     "name": "stdout",
     "output_type": "stream",
     "text": [
      "[1, 4, 9, 16, 25, 36, 49, 64, 81, 100]\n"
     ]
    }
   ],
   "source": [
    "a=[]\n",
    "for i in range(1,11):\n",
    "    i=i*i\n",
    "    a.append(i)\n",
    "print(a)"
   ]
  },
  {
   "cell_type": "code",
   "execution_count": null,
   "id": "d74b4f34-7fbd-46cc-918c-42f6e26be22b",
   "metadata": {},
   "outputs": [],
   "source": [
    "19.create a list of random numbers"
   ]
  },
  {
   "cell_type": "code",
   "execution_count": 216,
   "id": "e5ec8408-b5ea-40a6-8b0a-dc1aa07c2ac5",
   "metadata": {},
   "outputs": [
    {
     "name": "stdout",
     "output_type": "stream",
     "text": [
      "[36, 17, 31, 86, 76, 37, 35, 38, 21, 52]\n"
     ]
    }
   ],
   "source": [
    "import random\n",
    "random_numbers = [random.randint(1, 100) for _ in range(10)]\n",
    "print(random_numbers)\n"
   ]
  },
  {
   "cell_type": "code",
   "execution_count": null,
   "id": "9b9ab7b5-8f3c-4369-a22d-d15626485bf0",
   "metadata": {},
   "outputs": [],
   "source": [
    "20.remove duplicates from a list"
   ]
  },
  {
   "cell_type": "code",
   "execution_count": 240,
   "id": "46c9c541-22c9-4ebd-bcb0-d76f83044466",
   "metadata": {},
   "outputs": [
    {
     "name": "stdout",
     "output_type": "stream",
     "text": [
      "[1, 2, 3, 4, 5, 6]\n"
     ]
    }
   ],
   "source": [
    "list4=[1,1,2,3,3,4,5,6,6,6]\n",
    "unique_list=[]\n",
    "for i in list4:\n",
    "    if i not in unique_list:\n",
    "        unique_list.append(i)\n",
    "print(unique_list)"
   ]
  },
  {
   "cell_type": "code",
   "execution_count": null,
   "id": "988bdd50-a3c7-40a0-90d2-f20e21d42f7a",
   "metadata": {},
   "outputs": [],
   "source": [
    "21.find the common elemnts in two list"
   ]
  },
  {
   "cell_type": "code",
   "execution_count": 242,
   "id": "fa12000c-12b6-419e-95f4-33b6d7fecc92",
   "metadata": {},
   "outputs": [
    {
     "name": "stdout",
     "output_type": "stream",
     "text": [
      "[3, 4]\n"
     ]
    }
   ],
   "source": [
    "l1=[1,2,3,4,5,6]\n",
    "l2=[3,4,8,9,10]\n",
    "l3=[]\n",
    "for i in l1:\n",
    "    if i in l2:\n",
    "        l3.append(i)\n",
    "print(l3)"
   ]
  },
  {
   "cell_type": "code",
   "execution_count": null,
   "id": "c52dade8-cca5-4be7-b2eb-2379ae79f2ba",
   "metadata": {},
   "outputs": [],
   "source": [
    "22.find the difference between two lists"
   ]
  },
  {
   "cell_type": "code",
   "execution_count": 243,
   "id": "39ff599f-d66e-4fd3-992a-f4cbe2033a66",
   "metadata": {},
   "outputs": [
    {
     "name": "stdout",
     "output_type": "stream",
     "text": [
      "[1, 2, 5, 6]\n"
     ]
    }
   ],
   "source": [
    "l1=[1,2,3,4,5,6]\n",
    "l2=[3,4,8,9,10]\n",
    "l3=[]\n",
    "for i in l1:\n",
    "    if i not in l2:\n",
    "        l3.append(i)\n",
    "print(l3)"
   ]
  },
  {
   "cell_type": "code",
   "execution_count": null,
   "id": "2bb34d8c-b80d-4bca-b6f5-673fb2113a0b",
   "metadata": {},
   "outputs": [],
   "source": [
    "23.merge two lists"
   ]
  },
  {
   "cell_type": "code",
   "execution_count": 252,
   "id": "ec622137-8e7f-4e61-95f3-d83c150aab76",
   "metadata": {},
   "outputs": [
    {
     "data": {
      "text/plain": [
       "[1, 2, 3, 4, 5, 6, 3, 4, 8, 9, 10]"
      ]
     },
     "execution_count": 252,
     "metadata": {},
     "output_type": "execute_result"
    }
   ],
   "source": [
    "l1=[1,2,3,4,5,6]\n",
    "l2=[3,4,8,9,10]\n",
    "l3=l1+l2\n",
    "l3"
   ]
  },
  {
   "cell_type": "code",
   "execution_count": 249,
   "id": "b7cbb6e4-f7c3-4266-9864-4aaeac1e1e60",
   "metadata": {},
   "outputs": [],
   "source": [
    "24.multiply all elemnts in a lsit by 2"
   ]
  },
  {
   "cell_type": "code",
   "execution_count": 258,
   "id": "6332df01-3076-4800-b8b5-5ef81dd39b9f",
   "metadata": {},
   "outputs": [
    {
     "name": "stdout",
     "output_type": "stream",
     "text": [
      "[2, 4, 6, 8, 10, 12]\n"
     ]
    }
   ],
   "source": [
    "l5=[]\n",
    "for i in l1:\n",
    "    i=i*2\n",
    "    l5.append(i)\n",
    "print(l5)"
   ]
  },
  {
   "cell_type": "code",
   "execution_count": null,
   "id": "9820e9dd-ea4f-431c-a512-40f4141b4007",
   "metadata": {},
   "outputs": [],
   "source": [
    "25.filter out all evn numbers form a list"
   ]
  },
  {
   "cell_type": "code",
   "execution_count": 262,
   "id": "88c0be0d-cdd6-47b4-ad12-d9ea209ea637",
   "metadata": {},
   "outputs": [
    {
     "name": "stdout",
     "output_type": "stream",
     "text": [
      "2\n",
      "4\n",
      "6\n"
     ]
    }
   ],
   "source": [
    "for i in l1:\n",
    "    if i%2==0:\n",
    "        print(i)"
   ]
  },
  {
   "cell_type": "code",
   "execution_count": null,
   "id": "1e42d538-5067-400e-90ed-18ecb22fa40d",
   "metadata": {},
   "outputs": [],
   "source": [
    "26.convert list ofn strings to a list of integers"
   ]
  },
  {
   "cell_type": "code",
   "execution_count": 272,
   "id": "e55ce836-0ab6-4d02-99ba-f91e0888948c",
   "metadata": {},
   "outputs": [
    {
     "name": "stdout",
     "output_type": "stream",
     "text": [
      "[123, 234, 100]\n"
     ]
    }
   ],
   "source": [
    "l1=[\"123\",\"234\",\"100\"]\n",
    "l2=[]\n",
    "for i in l1:\n",
    "    l2.append(int(i))\n",
    "print(l2)"
   ]
  },
  {
   "cell_type": "code",
   "execution_count": null,
   "id": "931ab8f2-0003-4a57-9a73-4a35921a0cb5",
   "metadata": {},
   "outputs": [],
   "source": [
    "27.convert a list of integers to a list of strings"
   ]
  },
  {
   "cell_type": "code",
   "execution_count": 285,
   "id": "371f04ef-fb12-4a94-a4f7-4611dea28278",
   "metadata": {},
   "outputs": [
    {
     "name": "stdout",
     "output_type": "stream",
     "text": [
      "['123', '234', '100']\n"
     ]
    }
   ],
   "source": [
    "l1 = [123, 234, 100]\n",
    "l2 = []\n",
    "\n",
    "for i in l1:\n",
    "    l2.append(f\"{i}\")\n",
    "\n",
    "print(l2)\n"
   ]
  },
  {
   "cell_type": "code",
   "execution_count": null,
   "id": "07582b39-1604-47f7-a8fe-edb7162cdb25",
   "metadata": {},
   "outputs": [],
   "source": [
    "28.flatten a nested  list"
   ]
  },
  {
   "cell_type": "code",
   "execution_count": 45,
   "id": "be8610da-07de-4bac-ab76-661a3609f32f",
   "metadata": {},
   "outputs": [
    {
     "name": "stdout",
     "output_type": "stream",
     "text": [
      "[1, [2, 3], [4, [5, 6]]]\n"
     ]
    },
    {
     "name": "stderr",
     "output_type": "stream",
     "text": [
      "/tmp/ipykernel_3865/283095821.py:4: VisibleDeprecationWarning: Creating an ndarray from ragged nested sequences (which is a list-or-tuple of lists-or-tuples-or ndarrays with different lengths or shapes) is deprecated. If you meant to do this, you must specify 'dtype=object' when creating the ndarray.\n",
      "  flat_array = np.array(nested_list).flatten()\n"
     ]
    }
   ],
   "source": [
    "import numpy as np\n",
    "\n",
    "nested_list = [1, [2, 3], [4, [5, 6]]]\n",
    "flat_array = np.array(nested_list).flatten()\n",
    "flat_list = flat_array.tolist()\n",
    "print(flat_list) \n"
   ]
  },
  {
   "cell_type": "code",
   "execution_count": null,
   "id": "19520b89-f68b-4a88-96c6-5cc971ecd205",
   "metadata": {},
   "outputs": [],
   "source": [
    "29.create a list of the first 10 fibonacci numbers"
   ]
  },
  {
   "cell_type": "code",
   "execution_count": 304,
   "id": "30257a4e-7e01-465e-83fe-c7f2f8958d56",
   "metadata": {},
   "outputs": [],
   "source": [
    "def fib(n):\n",
    "    a,b=0,1\n",
    "    for i in range(n):  \n",
    "        yield a\n",
    "        a,b=b,a+b"
   ]
  },
  {
   "cell_type": "code",
   "execution_count": 307,
   "id": "6036caa6-b461-4d10-bba7-ba3b74188ef1",
   "metadata": {},
   "outputs": [
    {
     "name": "stdout",
     "output_type": "stream",
     "text": [
      "[0, 1, 1, 2, 3, 5, 8, 13, 21, 34]\n"
     ]
    }
   ],
   "source": [
    "l=[]\n",
    "for i in fib(10):\n",
    "    l.append(i)\n",
    "print(l)"
   ]
  },
  {
   "cell_type": "code",
   "execution_count": null,
   "id": "46e0565f-4bea-4f58-9091-5a707dd71e56",
   "metadata": {},
   "outputs": [],
   "source": [
    "30.check if a list is sorted"
   ]
  },
  {
   "cell_type": "code",
   "execution_count": 309,
   "id": "bb536dfa-e817-4628-b57d-39ae6d55d170",
   "metadata": {},
   "outputs": [
    {
     "name": "stdout",
     "output_type": "stream",
     "text": [
      "no\n"
     ]
    }
   ],
   "source": [
    "l=[1,2,34,4,4]\n",
    "if l.sort()==True:\n",
    "    print(\"yes\")\n",
    "else:\n",
    "    print(\"no\")"
   ]
  },
  {
   "cell_type": "code",
   "execution_count": null,
   "id": "28436e0b-8632-44e4-8919-b6de2ac6f6c5",
   "metadata": {},
   "outputs": [],
   "source": [
    "31.Rotate a list to the left by n positions"
   ]
  },
  {
   "cell_type": "code",
   "execution_count": 316,
   "id": "27d95e7f-dc8f-4f91-b6cf-c9c506543526",
   "metadata": {},
   "outputs": [],
   "source": [
    "def rotate_list(a,n):\n",
    "    rotated_list=a[n:]+a[:n]\n",
    "    print(rotated_list)\n",
    "    "
   ]
  },
  {
   "cell_type": "code",
   "execution_count": 317,
   "id": "f7329320-fa17-417c-b691-579ac99dc57e",
   "metadata": {},
   "outputs": [],
   "source": [
    "list1=[1,2,3,4,5]"
   ]
  },
  {
   "cell_type": "code",
   "execution_count": 318,
   "id": "c8b537ce-3a7b-4bd1-9a11-a6893e7744bf",
   "metadata": {},
   "outputs": [
    {
     "name": "stdout",
     "output_type": "stream",
     "text": [
      "[3, 4, 5, 1, 2]\n"
     ]
    }
   ],
   "source": [
    "rotate_list(list1,2)"
   ]
  },
  {
   "cell_type": "code",
   "execution_count": null,
   "id": "bbca46fc-713f-468a-9456-2337884e0d51",
   "metadata": {},
   "outputs": [],
   "source": [
    "32.rotate a list to the right by nth position"
   ]
  },
  {
   "cell_type": "code",
   "execution_count": 329,
   "id": "e9d47fd3-27b9-4a21-8d9c-1060a397664a",
   "metadata": {},
   "outputs": [],
   "source": [
    "def rotate_list(a,n):\n",
    "    rotated_list=a[-n:]+a[:-n]\n",
    "    print(rotated_list)\n",
    "    "
   ]
  },
  {
   "cell_type": "code",
   "execution_count": 330,
   "id": "73f2431e-3b6c-41f8-bb00-662890fe6bba",
   "metadata": {},
   "outputs": [
    {
     "name": "stdout",
     "output_type": "stream",
     "text": [
      "[4, 5, 1, 2, 3]\n"
     ]
    }
   ],
   "source": [
    "rotate_list(list1,2)"
   ]
  },
  {
   "cell_type": "code",
   "execution_count": null,
   "id": "2009226b-9d4c-47dc-9f6b-9dc7b590ea86",
   "metadata": {},
   "outputs": [],
   "source": [
    "33.create a list of prime numbers upto 50."
   ]
  },
  {
   "cell_type": "code",
   "execution_count": 42,
   "id": "a3373295-28ea-49b2-9b5c-c2ad278c8070",
   "metadata": {},
   "outputs": [],
   "source": [
    "def prime(n):\n",
    "    l = []\n",
    "    for i in range(2, n + 1):\n",
    "        is_prime = True\n",
    "        for j in l:\n",
    "            if j * j > i:\n",
    "                break\n",
    "            if i % j == 0:\n",
    "                is_prime = False\n",
    "                break\n",
    "        if is_prime:\n",
    "            l.append(i)\n",
    "    print(l)\n"
   ]
  },
  {
   "cell_type": "code",
   "execution_count": 43,
   "id": "28c7d878-f89b-4946-b74d-1d58520637c4",
   "metadata": {},
   "outputs": [
    {
     "name": "stdout",
     "output_type": "stream",
     "text": [
      "[2, 3, 5, 7, 11, 13, 17, 19, 23, 29, 31, 37, 41, 43, 47]\n"
     ]
    }
   ],
   "source": [
    "prime(50)"
   ]
  },
  {
   "cell_type": "code",
   "execution_count": null,
   "id": "ad06cf23-98fc-4a89-aa4d-fc103efcbe9f",
   "metadata": {},
   "outputs": [],
   "source": [
    "34.split a list into chunks of size \"n\""
   ]
  },
  {
   "cell_type": "code",
   "execution_count": 81,
   "id": "790c32e6-9f9f-4d7b-8fbe-7e2974b7ff8b",
   "metadata": {},
   "outputs": [
    {
     "name": "stdout",
     "output_type": "stream",
     "text": [
      "[[1, 2, 3], [4, 5, 6], [7, 8, 9], [10]]\n"
     ]
    }
   ],
   "source": [
    "def split_into_chunks(lst, n):\n",
    "    return (lst[i:i + n] for i in range(0, len(lst), n))\n",
    "\n",
    "\n",
    "my_list = [1, 2, 3, 4, 5, 6, 7, 8, 9, 10]\n",
    "chunk_size = 3\n",
    "result = list(split_into_chunks(my_list, chunk_size))\n",
    "\n",
    "print(result)\n"
   ]
  },
  {
   "cell_type": "code",
   "execution_count": null,
   "id": "974883f7-96a7-48e9-be1b-775ad6f3344e",
   "metadata": {},
   "outputs": [],
   "source": [
    "35.find the second largest number in  a list."
   ]
  },
  {
   "cell_type": "code",
   "execution_count": 86,
   "id": "67a90c27-298b-4d88-88cf-81ca33084cb7",
   "metadata": {},
   "outputs": [
    {
     "data": {
      "text/plain": [
       "6"
      ]
     },
     "execution_count": 86,
     "metadata": {},
     "output_type": "execute_result"
    }
   ],
   "source": [
    "l = [1,2,3,6,7]\n",
    "l.remove(max(l))\n",
    "max(l)"
   ]
  },
  {
   "cell_type": "code",
   "execution_count": null,
   "id": "eec4b8a9-70e3-4943-b5a5-e0907b149eb8",
   "metadata": {},
   "outputs": [],
   "source": [
    "36.replace every element in a list with its square"
   ]
  },
  {
   "cell_type": "code",
   "execution_count": 69,
   "id": "e5826e9d-40f9-467b-b574-385963bfe7f8",
   "metadata": {},
   "outputs": [
    {
     "data": {
      "text/plain": [
       "[1, 4, 9, 16]"
      ]
     },
     "execution_count": 69,
     "metadata": {},
     "output_type": "execute_result"
    }
   ],
   "source": [
    "l = [1,2,3,4]\n",
    "l1 = []\n",
    "for i in l:\n",
    "    i = i*i\n",
    "    l1.append(i)\n",
    "l1"
   ]
  },
  {
   "cell_type": "code",
   "execution_count": null,
   "id": "6d57722f-567f-440f-9412-5c1a90acc388",
   "metadata": {},
   "outputs": [],
   "source": [
    "37.convertr a dictionary where list elemnts become keys and their indices becomes values"
   ]
  },
  {
   "cell_type": "code",
   "execution_count": 87,
   "id": "7cd846b3-123d-43cb-a5b5-2413dcf53528",
   "metadata": {},
   "outputs": [
    {
     "name": "stdout",
     "output_type": "stream",
     "text": [
      "{'apple': 0, 'banana': 1, 'orange': 2}\n"
     ]
    }
   ],
   "source": [
    "def list_to_dict_with_indices(my_list):\n",
    "    my_dict = {}\n",
    "    for index, value in enumerate(my_list):\n",
    "        my_dict[value] = index\n",
    "    return my_dict\n",
    "\n",
    "my_list = ['apple', 'banana', 'orange']\n",
    "result_dict = list_to_dict_with_indices(my_list)\n",
    "\n",
    "print(result_dict)\n"
   ]
  },
  {
   "cell_type": "code",
   "execution_count": null,
   "id": "4f28cbda-60e3-4c22-a504-e63d3a4970f3",
   "metadata": {},
   "outputs": [],
   "source": [
    "38.shuffle the elemnts of list randomly"
   ]
  },
  {
   "cell_type": "code",
   "execution_count": 88,
   "id": "53106cbe-8b1a-40d9-8d69-56f789bd8c42",
   "metadata": {},
   "outputs": [
    {
     "name": "stdout",
     "output_type": "stream",
     "text": [
      "Original List: [1, 2, 3, 4, 5]\n",
      "Shuffled List: [4, 3, 1, 2, 5]\n"
     ]
    }
   ],
   "source": [
    "import random\n",
    "\n",
    "def shuffle_list(my_list):\n",
    "    shuffled_list = my_list[:] \n",
    "    random.shuffle(shuffled_list)\n",
    "    return shuffled_list\n",
    "\n",
    "\n",
    "original_list = [1, 2, 3, 4, 5]\n",
    "shuffled_result = shuffle_list(original_list)\n",
    "\n",
    "print(\"Original List:\", original_list)\n",
    "print(\"Shuffled List:\", shuffled_result)\n"
   ]
  },
  {
   "cell_type": "code",
   "execution_count": null,
   "id": "9e111546-39ed-45a4-89e4-2a7e2e7e6dfc",
   "metadata": {},
   "outputs": [],
   "source": [
    "39.create a list of the first 10 factorial numbers"
   ]
  },
  {
   "cell_type": "code",
   "execution_count": 89,
   "id": "e0012141-daf6-4c2c-a436-b936e61c7d4f",
   "metadata": {},
   "outputs": [
    {
     "name": "stdout",
     "output_type": "stream",
     "text": [
      "[1, 1, 2, 6, 24, 120, 720, 5040, 40320, 362880]\n"
     ]
    }
   ],
   "source": [
    "def factorial(n):\n",
    "    if n == 0:\n",
    "        return 1\n",
    "    else:\n",
    "        return n * factorial(n - 1)\n",
    "\n",
    "factorial_numbers = [factorial(i) for i in range(10)]\n",
    "\n",
    "print(factorial_numbers)\n"
   ]
  },
  {
   "cell_type": "code",
   "execution_count": null,
   "id": "8846d0e3-21c7-4ab2-ab3a-4e4a04bc660f",
   "metadata": {},
   "outputs": [],
   "source": [
    "40.check if two lists have at least one elemnt common"
   ]
  },
  {
   "cell_type": "code",
   "execution_count": 77,
   "id": "a904b7d3-0099-4b2e-9de4-3bf1538134cd",
   "metadata": {},
   "outputs": [
    {
     "name": "stdout",
     "output_type": "stream",
     "text": [
      "yes\n"
     ]
    }
   ],
   "source": [
    "def f(x,y):\n",
    "    for i in x:\n",
    "        if i in y:\n",
    "            print(\"yes\")\n",
    "            break\n",
    "    else:\n",
    "        print('no')\n",
    "        \n",
    "l1 = [1,2,3,5,6]\n",
    "l2 = [3,4,5,6]\n",
    "f(l1,l2)"
   ]
  },
  {
   "cell_type": "code",
   "execution_count": null,
   "id": "5586af69-a1dd-400f-9972-370f0a10dbe5",
   "metadata": {},
   "outputs": [],
   "source": [
    "41.remove all elemnts from a list"
   ]
  },
  {
   "cell_type": "code",
   "execution_count": 358,
   "id": "5482c3de-2a1a-4723-9072-434abeed966e",
   "metadata": {},
   "outputs": [
    {
     "name": "stdout",
     "output_type": "stream",
     "text": [
      "[]\n"
     ]
    }
   ],
   "source": [
    "l=[1,2,3,4,5]\n",
    "while l:\n",
    "    l.pop()\n",
    "print(l)"
   ]
  },
  {
   "cell_type": "code",
   "execution_count": 367,
   "id": "d6f8dba2-89de-46ae-b057-28b939f0624d",
   "metadata": {},
   "outputs": [
    {
     "data": {
      "text/plain": [
       "[]"
      ]
     },
     "execution_count": 367,
     "metadata": {},
     "output_type": "execute_result"
    }
   ],
   "source": [
    "l.clear()\n",
    "l"
   ]
  },
  {
   "cell_type": "markdown",
   "id": "c6a6e1c1-1db3-46b8-8f48-a58b3bf6d3b0",
   "metadata": {},
   "source": [
    "42.replace negative numbers in a list with 0.\n"
   ]
  },
  {
   "cell_type": "code",
   "execution_count": 77,
   "id": "085b81b2-3bbd-4b7a-b90b-ecf0865c328f",
   "metadata": {},
   "outputs": [],
   "source": [
    "def list_a(a):\n",
    "    for i in range(len(a)):\n",
    "        if a[i]<0:\n",
    "            a[i]=0\n",
    "    return a"
   ]
  },
  {
   "cell_type": "code",
   "execution_count": 78,
   "id": "67c5d0f0-a5ab-442e-a9c3-6c42110d01b0",
   "metadata": {},
   "outputs": [],
   "source": [
    "l=[1,2,3,4,-5,-6]\n"
   ]
  },
  {
   "cell_type": "code",
   "execution_count": 79,
   "id": "950e2490-ee27-42d1-9d13-8de83ebf4397",
   "metadata": {},
   "outputs": [
    {
     "data": {
      "text/plain": [
       "[1, 2, 3, 4, 0, 0]"
      ]
     },
     "execution_count": 79,
     "metadata": {},
     "output_type": "execute_result"
    }
   ],
   "source": [
    "list_a(l)"
   ]
  },
  {
   "cell_type": "code",
   "execution_count": 80,
   "id": "610671ac-1901-4a50-bf36-ab8bcde44a0a",
   "metadata": {},
   "outputs": [
    {
     "data": {
      "text/plain": [
       "range(0, 6)"
      ]
     },
     "execution_count": 80,
     "metadata": {},
     "output_type": "execute_result"
    }
   ],
   "source": [
    "range(len(l))"
   ]
  },
  {
   "cell_type": "markdown",
   "id": "9cdb3ef4-bd91-4d08-a99e-24d3e487854b",
   "metadata": {},
   "source": [
    "43.convert a string into list of words"
   ]
  },
  {
   "cell_type": "code",
   "execution_count": 362,
   "id": "75eed81d-240b-46de-b05d-bd0864a6e45b",
   "metadata": {},
   "outputs": [],
   "source": [
    "str1=\"vamshi is good boy\""
   ]
  },
  {
   "cell_type": "code",
   "execution_count": 363,
   "id": "ebcf1dcc-313f-4d2c-be62-2e413b5b87fa",
   "metadata": {},
   "outputs": [
    {
     "data": {
      "text/plain": [
       "['vamshi', 'is', 'good', 'boy']"
      ]
     },
     "execution_count": 363,
     "metadata": {},
     "output_type": "execute_result"
    }
   ],
   "source": [
    "str1.split()"
   ]
  },
  {
   "cell_type": "code",
   "execution_count": null,
   "id": "dc05244a-63d7-4bbd-821e-942b3f64435f",
   "metadata": {},
   "outputs": [],
   "source": [
    "44.convert a list of words into a string"
   ]
  },
  {
   "cell_type": "code",
   "execution_count": 365,
   "id": "6acc1482-4385-4f39-9ca5-6bbeb6ff61cf",
   "metadata": {},
   "outputs": [],
   "source": [
    "str1=[\"vamshi\",\"krishna\"]"
   ]
  },
  {
   "cell_type": "code",
   "execution_count": 370,
   "id": "0340638d-55f7-4386-b7ce-0e22b68f7331",
   "metadata": {},
   "outputs": [
    {
     "data": {
      "text/plain": [
       "'vamshikrishna'"
      ]
     },
     "execution_count": 370,
     "metadata": {},
     "output_type": "execute_result"
    }
   ],
   "source": [
    "c=str1[0]+str1[1]\n",
    "c"
   ]
  },
  {
   "cell_type": "code",
   "execution_count": null,
   "id": "5cb2d3ff-94af-4d2e-9f46-128a6f354670",
   "metadata": {},
   "outputs": [],
   "source": [
    "45.create a list of first 'n' power of 2"
   ]
  },
  {
   "cell_type": "code",
   "execution_count": 49,
   "id": "2bba776a-cf75-46af-81cb-5355b97b1422",
   "metadata": {},
   "outputs": [
    {
     "data": {
      "text/plain": [
       "[2, 4, 8, 16, 32, 64, 128, 256, 512]"
      ]
     },
     "execution_count": 49,
     "metadata": {},
     "output_type": "execute_result"
    }
   ],
   "source": [
    "l = []\n",
    "for i in range(1,10):\n",
    "    i = 2**i\n",
    "    l.append(i)\n",
    "l"
   ]
  },
  {
   "cell_type": "code",
   "execution_count": null,
   "id": "fc21a74b-c114-4105-80d7-2af54ca759e8",
   "metadata": {},
   "outputs": [],
   "source": [
    "46.find the longest string in a lsit of string"
   ]
  },
  {
   "cell_type": "code",
   "execution_count": 55,
   "id": "0fbb5fc0-339a-468b-b235-814869aaca5f",
   "metadata": {},
   "outputs": [
    {
     "data": {
      "text/plain": [
       "'pwskills'"
      ]
     },
     "execution_count": 55,
     "metadata": {},
     "output_type": "execute_result"
    }
   ],
   "source": [
    "l = [\"vamshi\",\"krishna\",\"pwskills\"]\n",
    "longest = ''\n",
    "for i in l:\n",
    "    if len(i)>len(longest):\n",
    "        longest = i\n",
    "longest"
   ]
  },
  {
   "cell_type": "code",
   "execution_count": null,
   "id": "437e88d5-fe8a-4ebf-bf95-f6191853022a",
   "metadata": {},
   "outputs": [],
   "source": [
    "47.find the shortest string in a lsit of string"
   ]
  },
  {
   "cell_type": "code",
   "execution_count": 60,
   "id": "66550961-1b53-453b-92ac-4f2a55151f17",
   "metadata": {},
   "outputs": [
    {
     "data": {
      "text/plain": [
       "'a'"
      ]
     },
     "execution_count": 60,
     "metadata": {},
     "output_type": "execute_result"
    }
   ],
   "source": [
    "l = [\"vamshi\",\"krishna\",\"pwskills\",\"a\"]\n",
    "shortest = l[0]\n",
    "for i in l:\n",
    "    if len(i)<len(shortest):\n",
    "        shortest = i\n",
    "shortest\n"
   ]
  },
  {
   "cell_type": "code",
   "execution_count": null,
   "id": "cd6db9b7-061e-46a5-a387-d5c584ad163f",
   "metadata": {},
   "outputs": [],
   "source": [
    "48.create a list of the n triangular numbers"
   ]
  },
  {
   "cell_type": "code",
   "execution_count": 47,
   "id": "8c2d2cba-b4f1-42ff-9883-80479d1e0430",
   "metadata": {},
   "outputs": [
    {
     "name": "stdout",
     "output_type": "stream",
     "text": [
      "[1, 3, 6, 10, 15]\n"
     ]
    }
   ],
   "source": [
    "def generate_triangle_numbers(n):\n",
    "    triangle_numbers = ()\n",
    "    for i in range(1, n + 1):\n",
    "        triangle_number = (i * (i + 1)) // 2\n",
    "        triangle_numbers += (triangle_number,)\n",
    "    return triangle_numbers\n",
    "\n",
    "first_5_triangle_numbers = generate_triangle_numbers(5)\n",
    "print(list(first_5_triangle_numbers))\n"
   ]
  },
  {
   "cell_type": "code",
   "execution_count": null,
   "id": "5b905ad0-3389-44a2-83bd-10252dbf6298",
   "metadata": {},
   "outputs": [],
   "source": [
    "49.check if a list contains another list a ssubsequence"
   ]
  },
  {
   "cell_type": "code",
   "execution_count": 46,
   "id": "c8813aaf-c0d8-4315-95b2-64752322fa5d",
   "metadata": {},
   "outputs": [
    {
     "name": "stdout",
     "output_type": "stream",
     "text": [
      "yes\n"
     ]
    }
   ],
   "source": [
    "l = [1,2,3,4,5]\n",
    "l1 = [1,2,3]\n",
    "l2 = []\n",
    "\n",
    "for i in l:\n",
    "    if i in l1:\n",
    "        l2.append(i)\n",
    "if l1 ==l2:\n",
    "    print(\"yes\")\n",
    "else:\n",
    "    print(\"no\")"
   ]
  },
  {
   "cell_type": "code",
   "execution_count": null,
   "id": "279386d8-10ac-4a13-be0f-677e4d992056",
   "metadata": {},
   "outputs": [],
   "source": [
    "50.swap two elemnts in a list by their indices"
   ]
  },
  {
   "cell_type": "code",
   "execution_count": 66,
   "id": "ee444574-5a38-41f9-bba7-413874b0dfc3",
   "metadata": {},
   "outputs": [
    {
     "data": {
      "text/plain": [
       "[20, 10, 30, 40, 50]"
      ]
     },
     "execution_count": 66,
     "metadata": {},
     "output_type": "execute_result"
    }
   ],
   "source": [
    "my_list = [10, 20, 30, 40, 50]\n",
    "my_list[0] ,my_list[1] = my_list[1],my_list[0]\n",
    "\n",
    "my_list"
   ]
  },
  {
   "cell_type": "code",
   "execution_count": null,
   "id": "d666a0f1-5e63-428d-80c7-44c0074d51ec",
   "metadata": {},
   "outputs": [],
   "source": [
    "******************************TUPLE****************************"
   ]
  },
  {
   "cell_type": "code",
   "execution_count": null,
   "id": "cc619be8-c7e2-408c-9aa8-68092605221f",
   "metadata": {},
   "outputs": [],
   "source": [
    "1.CREATE A TUPLE WITH INTEGERS FROM 1 TO 5\n"
   ]
  },
  {
   "cell_type": "code",
   "execution_count": 10,
   "id": "129e6b4e-f5fc-4551-892d-30090487f391",
   "metadata": {},
   "outputs": [
    {
     "name": "stdout",
     "output_type": "stream",
     "text": [
      "(1, 2, 3, 4)\n"
     ]
    }
   ],
   "source": [
    "a = []\n",
    "for i in range(1,5):\n",
    "    \n",
    "    a.append(i)\n",
    "print(tuple(a))"
   ]
  },
  {
   "cell_type": "code",
   "execution_count": null,
   "id": "4c162205-9d15-4be6-bca6-e1368496738b",
   "metadata": {},
   "outputs": [],
   "source": [
    "2. Access the third element of a tuple."
   ]
  },
  {
   "cell_type": "code",
   "execution_count": 14,
   "id": "9e18a610-982f-4250-a039-c675cfccc360",
   "metadata": {},
   "outputs": [
    {
     "name": "stdout",
     "output_type": "stream",
     "text": [
      "3\n"
     ]
    }
   ],
   "source": [
    "t = (1,2,3,4)\n",
    "for i in t:\n",
    "    if i == 3:\n",
    "        print(i)"
   ]
  },
  {
   "cell_type": "code",
   "execution_count": 16,
   "id": "fa26f1fa-3239-4963-9221-23625f5a633e",
   "metadata": {},
   "outputs": [
    {
     "name": "stdout",
     "output_type": "stream",
     "text": [
      "3\n"
     ]
    }
   ],
   "source": [
    "t = (1,2,3,4)\n",
    "t2 = t[2]\n",
    "print(t2)"
   ]
  },
  {
   "cell_type": "code",
   "execution_count": null,
   "id": "b69644cd-fb44-483b-ad75-8794fdabfc25",
   "metadata": {},
   "outputs": [],
   "source": [
    "3.Find length of a tuple without using len() function"
   ]
  },
  {
   "cell_type": "code",
   "execution_count": 18,
   "id": "7d2d067f-eeb6-4f18-88b4-4f2acaeb01ca",
   "metadata": {},
   "outputs": [
    {
     "name": "stdout",
     "output_type": "stream",
     "text": [
      "3\n"
     ]
    }
   ],
   "source": [
    "count = 0\n",
    "t = (1,2,3)\n",
    "for i in t:\n",
    "    count = count +1\n",
    "print(count)"
   ]
  },
  {
   "cell_type": "code",
   "execution_count": null,
   "id": "2997c1b5-060b-424d-a86a-935818f0675c",
   "metadata": {},
   "outputs": [],
   "source": [
    "4.find occurences of  an element in a tuple"
   ]
  },
  {
   "cell_type": "code",
   "execution_count": 25,
   "id": "164e81cf-18cf-47e8-8d01-856f6a43b4bb",
   "metadata": {},
   "outputs": [
    {
     "data": {
      "text/plain": [
       "2"
      ]
     },
     "execution_count": 25,
     "metadata": {},
     "output_type": "execute_result"
    }
   ],
   "source": [
    "t = (1,1,2,3)\n",
    "t.count(1)"
   ]
  },
  {
   "cell_type": "code",
   "execution_count": 30,
   "id": "411dfff1-45f6-402e-ad19-428f9c2906cd",
   "metadata": {},
   "outputs": [
    {
     "name": "stdout",
     "output_type": "stream",
     "text": [
      "2\n"
     ]
    }
   ],
   "source": [
    "#using for loop\n",
    "t = (1,1,2,3)\n",
    "element = 1\n",
    "no_occurences = 0\n",
    "for i in t:\n",
    "    if i == element:\n",
    "        no_occurences = no_occurences + 1\n",
    "print(no_occurences)"
   ]
  },
  {
   "cell_type": "code",
   "execution_count": null,
   "id": "c0d3b5e7-2a08-46fe-9447-a085fed1f3ba",
   "metadata": {},
   "outputs": [],
   "source": [
    "5. find the index of first occurence of an element"
   ]
  },
  {
   "cell_type": "code",
   "execution_count": 35,
   "id": "38b8d5c4-4c85-4461-ac18-5ed601507a09",
   "metadata": {},
   "outputs": [
    {
     "name": "stdout",
     "output_type": "stream",
     "text": [
      "Element 2 found at index 1\n",
      "Element 2 found at index 3\n"
     ]
    }
   ],
   "source": [
    "t = (1, 2, 3, 2)\n",
    "element_to_find = 2\n",
    "index = 0\n",
    "\n",
    "for i in t:\n",
    "    if i == element_to_find:\n",
    "        print(\"Element\", element_to_find, \"found at index\", index)\n",
    "    index += 1\n"
   ]
  },
  {
   "cell_type": "code",
   "execution_count": 60,
   "id": "4fa78e35-433a-4ce0-8599-b4e875526554",
   "metadata": {},
   "outputs": [
    {
     "name": "stdout",
     "output_type": "stream",
     "text": [
      "1\n"
     ]
    }
   ],
   "source": [
    "t = (1,2,3,2)\n",
    "element = 2\n",
    "index = 0\n",
    "for i in t:\n",
    "    if i != element:\n",
    "        index = index + 1\n",
    "        continue\n",
    "  \n",
    "    else:\n",
    "        break\n",
    "print(index)"
   ]
  },
  {
   "cell_type": "code",
   "execution_count": 43,
   "id": "4439a90e-c4e3-4c95-bfda-0032392152d2",
   "metadata": {},
   "outputs": [
    {
     "data": {
      "text/plain": [
       "1"
      ]
     },
     "execution_count": 43,
     "metadata": {},
     "output_type": "execute_result"
    }
   ],
   "source": [
    "t.index(2)"
   ]
  },
  {
   "cell_type": "code",
   "execution_count": null,
   "id": "5fbb6ad6-2a17-4acf-9502-54e6fd38b1e3",
   "metadata": {},
   "outputs": [],
   "source": [
    "6.CHECK IF AN ELEMENT EXIST IN A TUPLE"
   ]
  },
  {
   "cell_type": "code",
   "execution_count": 49,
   "id": "92242460-7417-4791-85c9-2648105ec1b0",
   "metadata": {},
   "outputs": [
    {
     "name": "stdout",
     "output_type": "stream",
     "text": [
      "exist\n"
     ]
    }
   ],
   "source": [
    "t = (1,2,3,4,2)\n",
    "element = 2\n",
    "for i in t:\n",
    "    if i == element:\n",
    "        print(\"exist\")\n",
    "        break"
   ]
  },
  {
   "cell_type": "code",
   "execution_count": null,
   "id": "4e346905-acb9-4fe3-8442-ae0316996867",
   "metadata": {},
   "outputs": [],
   "source": [
    "7.convert tuple into a list"
   ]
  },
  {
   "cell_type": "code",
   "execution_count": 61,
   "id": "0e5ed962-f7c1-4406-8a22-4a81919d2dc2",
   "metadata": {},
   "outputs": [
    {
     "data": {
      "text/plain": [
       "[1, 2, 3, 3]"
      ]
     },
     "execution_count": 61,
     "metadata": {},
     "output_type": "execute_result"
    }
   ],
   "source": [
    "t = (1,2,3,3)\n",
    "l = list(t)\n",
    "l"
   ]
  },
  {
   "cell_type": "code",
   "execution_count": null,
   "id": "2dcb643b-2f71-4703-bb56-6fd99b1fb12d",
   "metadata": {},
   "outputs": [],
   "source": [
    "8.convert list into tuple"
   ]
  },
  {
   "cell_type": "code",
   "execution_count": 62,
   "id": "47226df9-aba2-4c56-acc0-77786c8f98e8",
   "metadata": {},
   "outputs": [
    {
     "data": {
      "text/plain": [
       "(1, 2, 3, 3)"
      ]
     },
     "execution_count": 62,
     "metadata": {},
     "output_type": "execute_result"
    }
   ],
   "source": [
    "t = tuple(l)\n",
    "t"
   ]
  },
  {
   "cell_type": "code",
   "execution_count": null,
   "id": "f69dc855-2644-475d-bec5-c4a19f66cae2",
   "metadata": {},
   "outputs": [],
   "source": [
    "9.unpack the elemnts of a tuple into variables"
   ]
  },
  {
   "cell_type": "code",
   "execution_count": 83,
   "id": "1af6d004-ebef-48cd-a6cc-868ea614b88b",
   "metadata": {},
   "outputs": [
    {
     "name": "stdout",
     "output_type": "stream",
     "text": [
      "1 2 3\n"
     ]
    }
   ],
   "source": [
    "t = (1,2,3)\n",
    "a,b,c = t\n",
    "print(a,b,c)"
   ]
  },
  {
   "cell_type": "code",
   "execution_count": null,
   "id": "23d1edc9-8f82-43d1-abd5-c485f749bdd1",
   "metadata": {},
   "outputs": [],
   "source": [
    "10. create a tuple of even numbers form 1 to 10"
   ]
  },
  {
   "cell_type": "code",
   "execution_count": 87,
   "id": "a66d5d31-3258-4443-a4f8-7bcd3f921371",
   "metadata": {},
   "outputs": [
    {
     "name": "stdout",
     "output_type": "stream",
     "text": [
      "(2, 4, 6, 8, 10)\n"
     ]
    }
   ],
   "source": [
    "l = []\n",
    "for i in range (1,11):\n",
    "    if i%2 == 0:\n",
    "        l.append(i)\n",
    "print(tuple(l))\n",
    "        "
   ]
  },
  {
   "cell_type": "code",
   "execution_count": 89,
   "id": "398b5a21-572d-4ab2-b30d-57b55bc665e7",
   "metadata": {},
   "outputs": [
    {
     "data": {
      "text/plain": [
       "(2, 4, 6, 8, 10)"
      ]
     },
     "execution_count": 89,
     "metadata": {},
     "output_type": "execute_result"
    }
   ],
   "source": [
    "tuple(x for x in range(2,11,2))"
   ]
  },
  {
   "cell_type": "code",
   "execution_count": null,
   "id": "a50b38a7-c1a9-443b-9309-ec6f92d1807e",
   "metadata": {},
   "outputs": [],
   "source": [
    "11. create a tuple of ODD numbers form 1 to 10"
   ]
  },
  {
   "cell_type": "code",
   "execution_count": 90,
   "id": "f5e191e2-d1cd-4ac0-914b-b5eeee41621f",
   "metadata": {},
   "outputs": [
    {
     "data": {
      "text/plain": [
       "(1, 3, 5, 7, 9)"
      ]
     },
     "execution_count": 90,
     "metadata": {},
     "output_type": "execute_result"
    }
   ],
   "source": [
    "tuple(x for x in range(1,11,2))"
   ]
  },
  {
   "cell_type": "code",
   "execution_count": null,
   "id": "102c4d5b-599e-469f-9be2-0cf61f151295",
   "metadata": {},
   "outputs": [],
   "source": [
    "12. CONCATENATE TWO TUPLES"
   ]
  },
  {
   "cell_type": "code",
   "execution_count": 93,
   "id": "16f74c0e-9a68-488d-95db-e23b71738ecb",
   "metadata": {},
   "outputs": [
    {
     "data": {
      "text/plain": [
       "(1, 2, 3, 2, 3, 4)"
      ]
     },
     "execution_count": 93,
     "metadata": {},
     "output_type": "execute_result"
    }
   ],
   "source": [
    "t1 = (1,2,3)\n",
    "t2 = (2,3,4)\n",
    "\n",
    "t3 = t1 + t2\n",
    "        \n",
    "t3  "
   ]
  },
  {
   "cell_type": "code",
   "execution_count": null,
   "id": "5e82954e-b207-4319-8e0c-415ea0c89708",
   "metadata": {},
   "outputs": [],
   "source": [
    "13. repeat a tuple 3 times"
   ]
  },
  {
   "cell_type": "code",
   "execution_count": 94,
   "id": "42248fb1-0dee-418e-b26e-cb8e42cf1558",
   "metadata": {},
   "outputs": [
    {
     "data": {
      "text/plain": [
       "(1, 2, 3, 1, 2, 3, 1, 2, 3)"
      ]
     },
     "execution_count": 94,
     "metadata": {},
     "output_type": "execute_result"
    }
   ],
   "source": [
    "t = (1,2,3)\n",
    "t *3"
   ]
  },
  {
   "cell_type": "code",
   "execution_count": null,
   "id": "bdd3fa71-68e9-4807-af5c-cfcb8f4eb4a7",
   "metadata": {},
   "outputs": [],
   "source": [
    "14. check if a tuple is empty"
   ]
  },
  {
   "cell_type": "code",
   "execution_count": 108,
   "id": "0638484c-115b-4c93-b02c-aa75a5e7b3e3",
   "metadata": {},
   "outputs": [
    {
     "name": "stdout",
     "output_type": "stream",
     "text": [
      "empty\n"
     ]
    }
   ],
   "source": [
    "t = ()\n",
    "\n",
    "count = 0\n",
    "for i in t:\n",
    "    count = count +1 \n",
    "\n",
    "if count == 0:\n",
    "        print(\"empty\")  \n"
   ]
  },
  {
   "cell_type": "code",
   "execution_count": 111,
   "id": "05009d49-26f8-4f1b-a462-e411be894e68",
   "metadata": {},
   "outputs": [
    {
     "name": "stdout",
     "output_type": "stream",
     "text": [
      "empty\n"
     ]
    }
   ],
   "source": [
    "t = ()\n",
    "if len(t) == 0:\n",
    "    print(\"empty\")"
   ]
  },
  {
   "cell_type": "code",
   "execution_count": null,
   "id": "328dc081-7d76-4f75-9fb5-60ff35a85f84",
   "metadata": {},
   "outputs": [],
   "source": [
    "15.create a nested tuple"
   ]
  },
  {
   "cell_type": "code",
   "execution_count": 113,
   "id": "18296ff0-1e16-4b5e-b9f9-daa9130bfe2a",
   "metadata": {},
   "outputs": [
    {
     "data": {
      "text/plain": [
       "((1, 2, 3), ('v', 'amshi'), 'hello')"
      ]
     },
     "execution_count": 113,
     "metadata": {},
     "output_type": "execute_result"
    }
   ],
   "source": [
    "t = ((1,2,3),(\"v\",\"amshi\"),(\"hello\"))\n",
    "t"
   ]
  },
  {
   "cell_type": "code",
   "execution_count": null,
   "id": "67ca1e8e-38e8-4745-9fe3-9407eaa4196a",
   "metadata": {},
   "outputs": [],
   "source": [
    "16. access the first elemnt of a nested tuple"
   ]
  },
  {
   "cell_type": "code",
   "execution_count": 120,
   "id": "ea6e8f52-715c-40e6-a629-f28733aef492",
   "metadata": {},
   "outputs": [
    {
     "name": "stdout",
     "output_type": "stream",
     "text": [
      "(1, 2, 3)\n",
      "1\n"
     ]
    }
   ],
   "source": [
    "t = ((1,2,3),(\"v\",\"amshi\"),(\"hello\"))\n",
    "print(t[0])\n",
    "print(t[0][0])"
   ]
  },
  {
   "cell_type": "code",
   "execution_count": null,
   "id": "dfd60a85-9120-433c-812c-26c4b2087b2b",
   "metadata": {},
   "outputs": [],
   "source": [
    "17.create a tuple withy single element"
   ]
  },
  {
   "cell_type": "code",
   "execution_count": 121,
   "id": "e3057d46-66f9-4206-84ce-8375f6b6501d",
   "metadata": {},
   "outputs": [
    {
     "data": {
      "text/plain": [
       "2"
      ]
     },
     "execution_count": 121,
     "metadata": {},
     "output_type": "execute_result"
    }
   ],
   "source": [
    "t = (2)\n",
    "t"
   ]
  },
  {
   "cell_type": "code",
   "execution_count": null,
   "id": "47ff14b0-eef9-4f6e-aab3-94ff4b651321",
   "metadata": {},
   "outputs": [],
   "source": [
    "18. compare two tuples"
   ]
  },
  {
   "cell_type": "code",
   "execution_count": 122,
   "id": "cb0cf182-ec30-43dd-846d-262f7c87c712",
   "metadata": {},
   "outputs": [
    {
     "name": "stdout",
     "output_type": "stream",
     "text": [
      "The tuples are equal.\n"
     ]
    }
   ],
   "source": [
    "tuple1 = (1, 2, 3, 4, 5)\n",
    "tuple2 = (1, 2, 3, 4, 5)\n",
    "\n",
    "if tuple1 == tuple2:\n",
    "    print(\"The tuples are equal.\")\n",
    "else:\n",
    "    print(\"The tuples are not equal.\")\n"
   ]
  },
  {
   "cell_type": "code",
   "execution_count": null,
   "id": "79120956-6a22-46d1-9378-21658924056b",
   "metadata": {},
   "outputs": [],
   "source": [
    "19.delete a tuple"
   ]
  },
  {
   "cell_type": "code",
   "execution_count": 130,
   "id": "d8c0d906-2cf3-4389-9c8c-e92c5658354f",
   "metadata": {},
   "outputs": [],
   "source": [
    "t = (1,2,3)\n",
    "del t\n",
    "\n",
    "#tuple immutable"
   ]
  },
  {
   "cell_type": "code",
   "execution_count": null,
   "id": "8e75db3e-a452-4917-8e8b-ba1f6cd4a45b",
   "metadata": {
    "jp-MarkdownHeadingCollapsed": true,
    "tags": []
   },
   "outputs": [],
   "source": [
    "20. slice atuple"
   ]
  },
  {
   "cell_type": "code",
   "execution_count": 137,
   "id": "6e1d5e19-65da-45e0-b48c-4811c5b08396",
   "metadata": {},
   "outputs": [
    {
     "data": {
      "text/plain": [
       "(2, 4, 6)"
      ]
     },
     "execution_count": 137,
     "metadata": {},
     "output_type": "execute_result"
    }
   ],
   "source": [
    "t = (1,2,3,4,5,6,7,8)\n",
    "t[1:7:2]"
   ]
  },
  {
   "cell_type": "code",
   "execution_count": null,
   "id": "e5710566-9f0d-4bbe-aecb-749946344e04",
   "metadata": {},
   "outputs": [],
   "source": [
    "21.find the maximum value in a tuple"
   ]
  },
  {
   "cell_type": "code",
   "execution_count": 138,
   "id": "6800ecfe-a1a7-491d-b89c-87375744f2c8",
   "metadata": {},
   "outputs": [
    {
     "data": {
      "text/plain": [
       "22"
      ]
     },
     "execution_count": 138,
     "metadata": {},
     "output_type": "execute_result"
    }
   ],
   "source": [
    "t = (1,2,3,4,22)\n",
    "max(t)"
   ]
  },
  {
   "cell_type": "code",
   "execution_count": null,
   "id": "cfef067c-b30a-4c44-ad31-821a416d9280",
   "metadata": {},
   "outputs": [],
   "source": [
    "22.find the minimum value in a tuple"
   ]
  },
  {
   "cell_type": "code",
   "execution_count": 139,
   "id": "7ba6ec14-b5d6-4fa3-abca-60617a8d332c",
   "metadata": {},
   "outputs": [
    {
     "data": {
      "text/plain": [
       "1"
      ]
     },
     "execution_count": 139,
     "metadata": {},
     "output_type": "execute_result"
    }
   ],
   "source": [
    "t = (1,2,3,4,22)\n",
    "min(t)"
   ]
  },
  {
   "cell_type": "code",
   "execution_count": null,
   "id": "15b32a7c-ca23-4c3f-b46f-1ddf112c81d3",
   "metadata": {},
   "outputs": [],
   "source": [
    "23.convert string to tuple of characteristics"
   ]
  },
  {
   "cell_type": "code",
   "execution_count": 150,
   "id": "22e82016-13fa-4fdf-a495-9bb145aa9272",
   "metadata": {},
   "outputs": [
    {
     "name": "stdout",
     "output_type": "stream",
     "text": [
      "('v', 'a', 'm', 's', 'h', 'i')\n"
     ]
    }
   ],
   "source": [
    "s = \"vamshi\"\n",
    "l = []\n",
    "for i in s:\n",
    "    l.append(i)\n",
    "print(tuple(l))\n",
    "    "
   ]
  },
  {
   "cell_type": "code",
   "execution_count": 149,
   "id": "6ee6d6bb-d709-4da1-800e-719210eaf50e",
   "metadata": {},
   "outputs": [
    {
     "data": {
      "text/plain": [
       "('vamshi', 'krishna')"
      ]
     },
     "execution_count": 149,
     "metadata": {},
     "output_type": "execute_result"
    }
   ],
   "source": [
    "s = \"vamshi,krishna\"\n",
    "tuple(s.split(','))"
   ]
  },
  {
   "cell_type": "code",
   "execution_count": null,
   "id": "51dbd7c4-71ac-45bb-a3cf-898bb8de8dd0",
   "metadata": {},
   "outputs": [],
   "source": [
    "24. convert tuple of characters to string"
   ]
  },
  {
   "cell_type": "code",
   "execution_count": 153,
   "id": "0ccb243b-e9c6-4376-afcc-72659fd49d34",
   "metadata": {},
   "outputs": [
    {
     "data": {
      "text/plain": [
       "'vamshi krishna'"
      ]
     },
     "execution_count": 153,
     "metadata": {},
     "output_type": "execute_result"
    }
   ],
   "source": [
    "t = (\"vamshi\",\"krishna\")\n",
    "s = ' '.join(t)\n",
    "s"
   ]
  },
  {
   "cell_type": "code",
   "execution_count": null,
   "id": "d67b5f14-20ee-4f24-9fa2-42d619443e04",
   "metadata": {},
   "outputs": [],
   "source": [
    "25.create a tuple from multiple datatypes"
   ]
  },
  {
   "cell_type": "code",
   "execution_count": 158,
   "id": "06bcc457-eadf-4c39-b013-566fadb015aa",
   "metadata": {},
   "outputs": [
    {
     "data": {
      "text/plain": [
       "(1, 'vamshi', 1.0)"
      ]
     },
     "execution_count": 158,
     "metadata": {},
     "output_type": "execute_result"
    }
   ],
   "source": [
    "a = 1\n",
    "b = \"vamshi\"\n",
    "c = 1.0\n",
    "l = []\n",
    "l.append(a)\n",
    "l.append(b)\n",
    "l.append(c)\n",
    "l\n",
    "tuple(l)"
   ]
  },
  {
   "cell_type": "code",
   "execution_count": 160,
   "id": "ccaf12d5-c2d8-445c-a364-282494e0131f",
   "metadata": {},
   "outputs": [
    {
     "data": {
      "text/plain": [
       "(1, 'vamshi', 1.0, [1, 2], True)"
      ]
     },
     "execution_count": 160,
     "metadata": {},
     "output_type": "execute_result"
    }
   ],
   "source": [
    "t = (1,\"vamshi\",1.0,[1,2],True)\n",
    "t"
   ]
  },
  {
   "cell_type": "code",
   "execution_count": null,
   "id": "8b908dfe-6ab6-4877-be23-7821e3cdb57b",
   "metadata": {},
   "outputs": [],
   "source": [
    "26.check if two tuples are identical\n"
   ]
  },
  {
   "cell_type": "code",
   "execution_count": 161,
   "id": "6dc633ca-b4d5-4002-a8ea-b0d2821c6dd8",
   "metadata": {},
   "outputs": [
    {
     "name": "stdout",
     "output_type": "stream",
     "text": [
      "The tuples are identical.\n"
     ]
    }
   ],
   "source": [
    "tuple1 = (1, 2, 3)\n",
    "tuple2 = (1, 2, 3)\n",
    "\n",
    "if tuple1 == tuple2:\n",
    "    print(\"The tuples are identical.\")\n",
    "else:\n",
    "    print(\"The tuples are not identical.\")\n"
   ]
  },
  {
   "cell_type": "code",
   "execution_count": 169,
   "id": "120df6e6-1a4e-41c8-9c74-1dc2b8a331be",
   "metadata": {},
   "outputs": [
    {
     "name": "stdout",
     "output_type": "stream",
     "text": [
      "identical\n"
     ]
    }
   ],
   "source": [
    "tuple1 = (1, 2, 3)\n",
    "tuple2 = (1, 2, 3)\n",
    "\n",
    "for x,y in zip(tuple1,tuple2):\n",
    "    if x!=y:\n",
    "        print(\"not identical\")\n",
    "        break\n",
    "else:\n",
    "    print( \"identical\")"
   ]
  },
  {
   "cell_type": "code",
   "execution_count": null,
   "id": "cceb4043-7f88-4c7a-8583-3e2199a34f88",
   "metadata": {},
   "outputs": [],
   "source": [
    "27. sort the elements of a tuple"
   ]
  },
  {
   "cell_type": "code",
   "execution_count": 7,
   "id": "6432ae5e-93ec-4227-b677-6825cdd832a0",
   "metadata": {},
   "outputs": [
    {
     "data": {
      "text/plain": [
       "(1, 2, 3, 4, 5)"
      ]
     },
     "execution_count": 7,
     "metadata": {},
     "output_type": "execute_result"
    }
   ],
   "source": [
    "t = (1,3,2,5,4)\n",
    "tuple(sorted(t))\n"
   ]
  },
  {
   "cell_type": "code",
   "execution_count": null,
   "id": "81a0ee7d-c315-4d92-bfb6-294a09c0c03e",
   "metadata": {},
   "outputs": [],
   "source": [
    "28. convert tuple of integers to tuple of strings"
   ]
  },
  {
   "cell_type": "code",
   "execution_count": 12,
   "id": "2d8af3f7-28b2-4142-afef-4b4e1de56353",
   "metadata": {},
   "outputs": [
    {
     "name": "stdout",
     "output_type": "stream",
     "text": [
      "('1', '2', '3', '4')\n"
     ]
    }
   ],
   "source": [
    "t = (1,2,3,4)\n",
    "\n",
    "l = []\n",
    "\n",
    "for i in t:\n",
    "    i = str (i)\n",
    "    l.append(i)\n",
    "print(tuple(l))"
   ]
  },
  {
   "cell_type": "code",
   "execution_count": null,
   "id": "1fb18fae-7b58-47a3-b000-f1efc9ce5bf6",
   "metadata": {},
   "outputs": [],
   "source": [
    "29. convert tuple of strings to tuple of integers"
   ]
  },
  {
   "cell_type": "code",
   "execution_count": 13,
   "id": "f81098e1-5b4e-4d8d-bc1f-ff2fe72539ea",
   "metadata": {},
   "outputs": [
    {
     "name": "stdout",
     "output_type": "stream",
     "text": [
      "(1, 2, 3, 4)\n"
     ]
    }
   ],
   "source": [
    "t = ('1','2','3','4')\n",
    "\n",
    "l = []\n",
    "\n",
    "for i in t:\n",
    "    i = int (i)\n",
    "    l.append(i)\n",
    "print(tuple(l))"
   ]
  },
  {
   "cell_type": "code",
   "execution_count": null,
   "id": "33c4d969-2025-4800-aeb9-1cd190a1c19f",
   "metadata": {},
   "outputs": [],
   "source": [
    "30. merge two tuples"
   ]
  },
  {
   "cell_type": "code",
   "execution_count": 14,
   "id": "da293bf2-1cf8-41c0-a3ed-9ef403baefcb",
   "metadata": {},
   "outputs": [
    {
     "data": {
      "text/plain": [
       "(1, 2, 3, 4, 5)"
      ]
     },
     "execution_count": 14,
     "metadata": {},
     "output_type": "execute_result"
    }
   ],
   "source": [
    "t1 = (1,2,3)\n",
    "t2 = (4,5)\n",
    "t1 + t2"
   ]
  },
  {
   "cell_type": "code",
   "execution_count": null,
   "id": "f8d71725-f54d-412f-bfbb-b51d211a96a2",
   "metadata": {},
   "outputs": [],
   "source": [
    "31. flatten a nested tuple."
   ]
  },
  {
   "cell_type": "code",
   "execution_count": 18,
   "id": "2e1ad955-481b-49b4-bb21-dd6a3f28b89f",
   "metadata": {},
   "outputs": [
    {
     "name": "stdout",
     "output_type": "stream",
     "text": [
      "(1, 2, 3, '1', '2', '3')\n"
     ]
    }
   ],
   "source": [
    "t1 = ((1,2,3),('1','2','3'))\n",
    "\n",
    "l = []\n",
    "for i in t1:\n",
    "    for j in i:\n",
    "        l.append(j)\n",
    "print(tuple(l))"
   ]
  },
  {
   "cell_type": "code",
   "execution_count": null,
   "id": "7025fcb9-15fc-4d66-8a1f-9d0733d3ac76",
   "metadata": {},
   "outputs": [],
   "source": [
    "32. create a tuple of first 5 prime numbers"
   ]
  },
  {
   "cell_type": "code",
   "execution_count": 47,
   "id": "03f3596a-4c58-4cdc-93bb-015713dc3096",
   "metadata": {},
   "outputs": [],
   "source": [
    "def prime(n):\n",
    "    l = []\n",
    "    for i in range(2, n + 1):\n",
    "        is_prime = True\n",
    "        for j in l:\n",
    "            if j * j > i:\n",
    "                break\n",
    "            if i % j == 0:\n",
    "                is_prime = False\n",
    "                break\n",
    "        if is_prime:\n",
    "            l.append(i)\n",
    "    print(tuple(l))\n"
   ]
  },
  {
   "cell_type": "code",
   "execution_count": 48,
   "id": "d607e695-8219-4f13-98c1-d3270af2ac9d",
   "metadata": {},
   "outputs": [
    {
     "name": "stdout",
     "output_type": "stream",
     "text": [
      "(2, 3, 5)\n"
     ]
    }
   ],
   "source": [
    "prime(5)"
   ]
  },
  {
   "cell_type": "code",
   "execution_count": null,
   "id": "c4fdcd09-466a-4193-ae79-9648011bc454",
   "metadata": {},
   "outputs": [],
   "source": []
  },
  {
   "cell_type": "code",
   "execution_count": null,
   "id": "57069afd-d92a-4010-93a3-d804276ecf9a",
   "metadata": {},
   "outputs": [],
   "source": [
    "33.check if a tuple is a palindrome"
   ]
  },
  {
   "cell_type": "code",
   "execution_count": 61,
   "id": "352ac452-9aeb-4ac9-aeac-48be893562d1",
   "metadata": {},
   "outputs": [
    {
     "name": "stdout",
     "output_type": "stream",
     "text": [
      "The tuple is a palindrome.\n"
     ]
    }
   ],
   "source": [
    "def palindrome(tuple1):\n",
    "    return tuple1 == tuple1[::-1]\n",
    "\n",
    "\n",
    "tuple1 = (1, 2, 3, 2, 1)\n",
    "result = palindrome(tuple1)\n",
    "\n",
    "if result:\n",
    "    print(\"The tuple is a palindrome.\")\n",
    "else:\n",
    "    print(\"The tuple is not a palindrome.\")\n"
   ]
  },
  {
   "cell_type": "code",
   "execution_count": null,
   "id": "2412ee89-0316-4c4e-a0bc-82b5495010ca",
   "metadata": {},
   "outputs": [],
   "source": [
    "34. create a tuple of squares of numbers from 1 to 5."
   ]
  },
  {
   "cell_type": "code",
   "execution_count": 63,
   "id": "3c8b33de-869c-4f8a-bfd3-387370332f9c",
   "metadata": {},
   "outputs": [
    {
     "name": "stdout",
     "output_type": "stream",
     "text": [
      "(1, 4, 9, 16, 25)\n"
     ]
    }
   ],
   "source": [
    "l = []\n",
    "for i in range(1,6):\n",
    "    i = i*i\n",
    "    l.append(i)\n",
    "print(tuple(l))"
   ]
  },
  {
   "cell_type": "code",
   "execution_count": null,
   "id": "53bafabd-b9eb-4eea-88fb-07e34750a672",
   "metadata": {},
   "outputs": [],
   "source": [
    "35.Filter out all even numbers from a tuple"
   ]
  },
  {
   "cell_type": "code",
   "execution_count": 64,
   "id": "4fe1340f-6cd0-49ae-922d-f2e86f8911cb",
   "metadata": {},
   "outputs": [
    {
     "name": "stdout",
     "output_type": "stream",
     "text": [
      "(2, 4, 6, 6)\n"
     ]
    }
   ],
   "source": [
    "t = (1,2,3,4,5,5,6,6,67)\n",
    "l = []\n",
    "for i in t:\n",
    "    if i%2 == 0:\n",
    "        l.append(i)\n",
    "print(tuple(l))"
   ]
  },
  {
   "cell_type": "code",
   "execution_count": null,
   "id": "3b39e6d3-d209-44c9-909a-4e52b9dd17f1",
   "metadata": {},
   "outputs": [],
   "source": [
    "36. multiply all elemnts in a tuple by 2"
   ]
  },
  {
   "cell_type": "code",
   "execution_count": 66,
   "id": "7dd19a78-15e5-426f-922b-393eb3ca4f12",
   "metadata": {},
   "outputs": [
    {
     "name": "stdout",
     "output_type": "stream",
     "text": [
      "(2, 4, 6, 8, 10, 12)\n"
     ]
    }
   ],
   "source": [
    "t = (1,2,3,4,5,6)\n",
    "l = []\n",
    "\n",
    "for i in t:\n",
    "    i = 2*i\n",
    "    l.append(i)\n",
    "print(tuple(l))"
   ]
  },
  {
   "cell_type": "code",
   "execution_count": null,
   "id": "e0eedcdb-3827-480b-9041-ae14668ac8c5",
   "metadata": {},
   "outputs": [],
   "source": [
    "37.create a tuple of random numbers"
   ]
  },
  {
   "cell_type": "code",
   "execution_count": 68,
   "id": "61417309-846d-4887-8fd2-85557c250b4f",
   "metadata": {},
   "outputs": [
    {
     "name": "stdout",
     "output_type": "stream",
     "text": [
      "(66, 17, 67, 28, 49)\n"
     ]
    }
   ],
   "source": [
    "import random\n",
    "\n",
    "random_numbers = tuple(random.randint(1, 100) for i in range(5))\n",
    "\n",
    "print(random_numbers)\n"
   ]
  },
  {
   "cell_type": "code",
   "execution_count": null,
   "id": "661adb00-f9be-4fda-b447-35292415a2aa",
   "metadata": {},
   "outputs": [],
   "source": [
    "38. check if a tuple is sorted"
   ]
  },
  {
   "cell_type": "code",
   "execution_count": 70,
   "id": "5d0ac4f2-3500-4eb4-81ea-90f452e76477",
   "metadata": {},
   "outputs": [
    {
     "name": "stdout",
     "output_type": "stream",
     "text": [
      "yes\n"
     ]
    }
   ],
   "source": [
    "t = (1,2,3,4)\n",
    "if tuple(sorted(t))==t:\n",
    "    print(\"yes\")"
   ]
  },
  {
   "cell_type": "code",
   "execution_count": null,
   "id": "cb53961c-6ac9-4c1d-bf8c-1027281bc661",
   "metadata": {},
   "outputs": [],
   "source": [
    "39.rotate the tuple to the left by 'n' positions"
   ]
  },
  {
   "cell_type": "code",
   "execution_count": 73,
   "id": "d6dd0712-130c-463a-a6d2-a751ac3139f1",
   "metadata": {},
   "outputs": [
    {
     "name": "stdout",
     "output_type": "stream",
     "text": [
      "(3, 1, 2)\n"
     ]
    }
   ],
   "source": [
    "def rotate_list(a,n):\n",
    "    rotated_list=a[n:]+a[:n]\n",
    "    print(rotated_list)\n",
    "t = (1,2,3)\n",
    "rotate_list(t,2)\n",
    "\n"
   ]
  },
  {
   "cell_type": "code",
   "execution_count": null,
   "id": "45f5f9b8-a320-44c0-921c-8a7d592a8d1e",
   "metadata": {},
   "outputs": [],
   "source": [
    "40.rotate the tuple to the right by 'n' positions"
   ]
  },
  {
   "cell_type": "code",
   "execution_count": 74,
   "id": "dd1c2103-da03-40d5-a4ac-46207f8f09ee",
   "metadata": {},
   "outputs": [
    {
     "name": "stdout",
     "output_type": "stream",
     "text": [
      "(2, 3, 1)\n"
     ]
    }
   ],
   "source": [
    "def rotate_list(a,n):\n",
    "    rotated_list=a[-n:]+a[:-n]\n",
    "    print(rotated_list)\n",
    "t = (1,2,3)\n",
    "rotate_list(t,2)"
   ]
  },
  {
   "cell_type": "code",
   "execution_count": null,
   "id": "5fdd5683-c3f6-4731-801a-e9db5ad829cd",
   "metadata": {},
   "outputs": [],
   "source": [
    "41.create a tuple of the first 5 fibonacci numbers"
   ]
  },
  {
   "cell_type": "code",
   "execution_count": 18,
   "id": "8c40eeb5-0a4e-41fe-8576-3e25cf8c73d0",
   "metadata": {},
   "outputs": [],
   "source": [
    "def feb(n):\n",
    "    fibonacci = [0,1]\n",
    "   \n",
    "\n",
    "    for i in range(2,n):\n",
    "        next_fibonacci = fibonacci[-1] + fibonacci[-2]\n",
    "        fibonacci.append(next_fibonacci)\n",
    "    return fibonacci\n",
    "    "
   ]
  },
  {
   "cell_type": "code",
   "execution_count": 20,
   "id": "d0b73efc-6242-41c1-a809-6177c365a952",
   "metadata": {},
   "outputs": [
    {
     "data": {
      "text/plain": [
       "[0, 1, 1, 2, 3]"
      ]
     },
     "execution_count": 20,
     "metadata": {},
     "output_type": "execute_result"
    }
   ],
   "source": [
    "feb(5)"
   ]
  },
  {
   "cell_type": "code",
   "execution_count": null,
   "id": "13539d66-952d-4732-b555-cab70ab70a47",
   "metadata": {},
   "outputs": [],
   "source": [
    "42. create a tuple from user input"
   ]
  },
  {
   "cell_type": "code",
   "execution_count": 22,
   "id": "76ce62f7-81a9-4370-bd35-0a0c50fdb4c5",
   "metadata": {},
   "outputs": [
    {
     "name": "stdin",
     "output_type": "stream",
     "text": [
      "Enter values separated by spaces:  1 4 6 9\n"
     ]
    },
    {
     "name": "stdout",
     "output_type": "stream",
     "text": [
      "Tuple from user input: (1, 4, 6, 9)\n"
     ]
    }
   ],
   "source": [
    "user_input_str = input(\"Enter values separated by spaces: \")\n",
    "\n",
    "user_input_tuple = tuple(map(int, user_input_str.split()))\n",
    "\n",
    "print(\"Tuple from user input:\", user_input_tuple)\n"
   ]
  },
  {
   "cell_type": "code",
   "execution_count": null,
   "id": "14996a81-4555-4ae5-a549-4a5acafbfd6a",
   "metadata": {},
   "outputs": [],
   "source": [
    "43. swap two elements in a tuple"
   ]
  },
  {
   "cell_type": "code",
   "execution_count": 27,
   "id": "bf1ec742-1d58-4997-a2f2-aca124915175",
   "metadata": {},
   "outputs": [
    {
     "data": {
      "text/plain": [
       "(2, 1, 3)"
      ]
     },
     "execution_count": 27,
     "metadata": {},
     "output_type": "execute_result"
    }
   ],
   "source": [
    "t = (1, 2, 3)\n",
    "l = list(t)\n",
    "l[0], l[1] = l[1], l[0]\n",
    "tuple(l)\n"
   ]
  },
  {
   "cell_type": "code",
   "execution_count": null,
   "id": "3331f107-f047-402d-baad-3c216c1e6cb1",
   "metadata": {},
   "outputs": [],
   "source": [
    "44.reverse the elements of a tuple"
   ]
  },
  {
   "cell_type": "code",
   "execution_count": 40,
   "id": "933c9de5-0136-45da-a4ce-76bb802aeef8",
   "metadata": {},
   "outputs": [
    {
     "data": {
      "text/plain": [
       "(4, 3, 2, 1)"
      ]
     },
     "execution_count": 40,
     "metadata": {},
     "output_type": "execute_result"
    }
   ],
   "source": [
    "t = (1,2,3,4)\n",
    "l = list(t)\n",
    "tuple(l[::-1])\n"
   ]
  },
  {
   "cell_type": "code",
   "execution_count": null,
   "id": "c894c9f6-ae15-44ad-9dec-d1cf5b6b0414",
   "metadata": {},
   "outputs": [],
   "source": [
    "45.create a tuple of the first 'n' powers of 2"
   ]
  },
  {
   "cell_type": "code",
   "execution_count": 48,
   "id": "f89513d8-3b7c-41dc-86c9-50478b91eb9f",
   "metadata": {},
   "outputs": [
    {
     "data": {
      "text/plain": [
       "(1, 2, 4, 8, 16)"
      ]
     },
     "execution_count": 48,
     "metadata": {},
     "output_type": "execute_result"
    }
   ],
   "source": [
    "def power(n): \n",
    "    l = []\n",
    "    for i in range (0,n):\n",
    "        \n",
    "        power = 2**i\n",
    "        l.append(power)\n",
    "    return tuple(l)\n",
    "power(5)"
   ]
  },
  {
   "cell_type": "code",
   "execution_count": null,
   "id": "8aea649a-0965-407d-a8b7-f1f45284211a",
   "metadata": {},
   "outputs": [],
   "source": [
    "46. find the longest string in a tuple of strings"
   ]
  },
  {
   "cell_type": "code",
   "execution_count": 68,
   "id": "a31a0fc0-fe82-4c91-aa7e-cd1d1a2db899",
   "metadata": {},
   "outputs": [
    {
     "data": {
      "text/plain": [
       "'pwskills'"
      ]
     },
     "execution_count": 68,
     "metadata": {},
     "output_type": "execute_result"
    }
   ],
   "source": [
    "def find_longest(t):\n",
    "    longest_string = \"\"\n",
    "    for i in t:\n",
    "         if len(i) > len(longest_string):\n",
    "                longest_string = i\n",
    "    return longest_string\n",
    "find_longest((\"vamshi\",\"krishna\",\"priya\",\"hello\",\"pwskills\"))"
   ]
  },
  {
   "cell_type": "code",
   "execution_count": null,
   "id": "35e03f19-8337-412b-ab53-2f178cabd4d4",
   "metadata": {},
   "outputs": [],
   "source": [
    "47.find the shortest string in a tuple of strings"
   ]
  },
  {
   "cell_type": "code",
   "execution_count": 80,
   "id": "669facb2-1f9c-4d6e-9850-ed4c957352c7",
   "metadata": {},
   "outputs": [
    {
     "data": {
      "text/plain": [
       "'priya'"
      ]
     },
     "execution_count": 80,
     "metadata": {},
     "output_type": "execute_result"
    }
   ],
   "source": [
    "def find_shortest(t):\n",
    "    shortest_string = t[0]\n",
    "    for i in t:\n",
    "         if len(i) < len(shortest_string):\n",
    "                shortest_string = i\n",
    "    return shortest_string\n",
    "find_shortest((\"vamshi\",\"krishna\",\"priya\",\"pwskills\"))"
   ]
  },
  {
   "cell_type": "code",
   "execution_count": null,
   "id": "1d021bf2-c645-4648-924b-81e00c17a2bf",
   "metadata": {},
   "outputs": [],
   "source": [
    "48.create a tuple of the first n triangle numbers"
   ]
  },
  {
   "cell_type": "code",
   "execution_count": 81,
   "id": "33e23f00-cec7-40e7-bd78-75a906986d80",
   "metadata": {},
   "outputs": [
    {
     "name": "stdout",
     "output_type": "stream",
     "text": [
      "(1, 3, 6, 10, 15)\n"
     ]
    }
   ],
   "source": [
    "def generate_triangle_numbers(n):\n",
    "    triangle_numbers = ()\n",
    "    for i in range(1, n + 1):\n",
    "        triangle_number = (i * (i + 1)) // 2\n",
    "        triangle_numbers += (triangle_number,)\n",
    "    return triangle_numbers\n",
    "\n",
    "first_5_triangle_numbers = generate_triangle_numbers(5)\n",
    "print(first_5_triangle_numbers)\n"
   ]
  },
  {
   "cell_type": "code",
   "execution_count": null,
   "id": "80718f52-15a1-462c-83ad-32fcd89eddd3",
   "metadata": {},
   "outputs": [],
   "source": [
    "49.check if a tuple contains another tuple as a subsequence"
   ]
  },
  {
   "cell_type": "code",
   "execution_count": 12,
   "id": "1e8de642-898c-48f5-b10a-033466606fc2",
   "metadata": {},
   "outputs": [
    {
     "name": "stdout",
     "output_type": "stream",
     "text": [
      "t contain t2 as subsequence\n"
     ]
    }
   ],
   "source": [
    "t = (1,2,3,5,6)\n",
    "t2 = (2,5,6)\n",
    "l = []\n",
    "for i in t:\n",
    "    if i in t2:\n",
    "        l.append(i)\n",
    "if l == list(t2):\n",
    "    print(\"t contain t2 as subsequence\")\n",
    "else:\n",
    "    print(\"t does not contain t2 as a subsequence\")\n",
    "\n",
    "  "
   ]
  },
  {
   "cell_type": "code",
   "execution_count": null,
   "id": "7e04b59b-2b0a-4622-a779-8cd493f74337",
   "metadata": {},
   "outputs": [],
   "source": [
    "50.create a tuple of alternating 1s ans 0s of length n"
   ]
  },
  {
   "cell_type": "code",
   "execution_count": 17,
   "id": "0d63104a-6891-4a36-96e1-4b385a452c1a",
   "metadata": {},
   "outputs": [
    {
     "data": {
      "text/plain": [
       "(1, 0, 1, 0, 1, 0)"
      ]
     },
     "execution_count": 17,
     "metadata": {},
     "output_type": "execute_result"
    }
   ],
   "source": [
    "def fun(n):\n",
    "    l = []\n",
    "    for i in range(n):\n",
    "        if i%2 == 0:\n",
    "            l.append(1)\n",
    "        else:\n",
    "            l.append(0)\n",
    "    return tuple(l)\n",
    "fun(6)"
   ]
  },
  {
   "cell_type": "code",
   "execution_count": null,
   "id": "c4b026de-3e1e-4223-97f9-ef7448bd65f0",
   "metadata": {},
   "outputs": [],
   "source": [
    "*******************SET************************************"
   ]
  },
  {
   "cell_type": "code",
   "execution_count": null,
   "id": "7e0f1bb4-bb46-49e3-be13-77f2837c7f0e",
   "metadata": {},
   "outputs": [],
   "source": [
    "1.create a set with integers from 1 to 5."
   ]
  },
  {
   "cell_type": "code",
   "execution_count": 2,
   "id": "3fda05c4-96b5-4212-bfc1-e02bbf68fee8",
   "metadata": {},
   "outputs": [
    {
     "name": "stdout",
     "output_type": "stream",
     "text": [
      "{1, 2, 3, 4, 5}\n"
     ]
    }
   ],
   "source": [
    "my_set = {1,2,3,4,5}\n",
    "print(my_set)"
   ]
  },
  {
   "cell_type": "code",
   "execution_count": null,
   "id": "76da38af-45a2-443c-b7e5-e6724193e732",
   "metadata": {},
   "outputs": [],
   "source": [
    "2. add an element to a set"
   ]
  },
  {
   "cell_type": "code",
   "execution_count": 6,
   "id": "90b9e8cb-d2d2-4bf9-8509-755cec2e0ffb",
   "metadata": {},
   "outputs": [
    {
     "data": {
      "text/plain": [
       "{1, 2, 3, 4, 5, 'vamshi'}"
      ]
     },
     "execution_count": 6,
     "metadata": {},
     "output_type": "execute_result"
    }
   ],
   "source": [
    "my_set = {1,2,3,4,5}\n",
    "my_set.add(\"vamshi\")\n",
    "my_set"
   ]
  },
  {
   "cell_type": "code",
   "execution_count": null,
   "id": "d95ab080-89b1-413f-aeeb-0f7c3d883ccd",
   "metadata": {},
   "outputs": [],
   "source": [
    "3.remove an element from a set"
   ]
  },
  {
   "cell_type": "code",
   "execution_count": 8,
   "id": "e2f65dfd-b26b-4916-920e-4af45d7837ce",
   "metadata": {},
   "outputs": [
    {
     "data": {
      "text/plain": [
       "{1, 3, 4, 5}"
      ]
     },
     "execution_count": 8,
     "metadata": {},
     "output_type": "execute_result"
    }
   ],
   "source": [
    "my_set = {1,2,3,4,5}\n",
    "my_set.remove(2)\n",
    "my_set"
   ]
  },
  {
   "cell_type": "code",
   "execution_count": null,
   "id": "a031a9fd-25da-4619-96df-85798e6c6da1",
   "metadata": {},
   "outputs": [],
   "source": [
    "4.check if element exist in a set"
   ]
  },
  {
   "cell_type": "code",
   "execution_count": 20,
   "id": "7797725c-e708-451a-bc66-c07b3bc20b95",
   "metadata": {},
   "outputs": [
    {
     "name": "stdout",
     "output_type": "stream",
     "text": [
      "yes\n"
     ]
    }
   ],
   "source": [
    "my_set = {1,2,3,4,5}\n",
    "element = 4\n",
    "if element in my_set:\n",
    "    print(\"yes\")\n",
    "else:\n",
    "    print(\"no\")"
   ]
  },
  {
   "cell_type": "code",
   "execution_count": null,
   "id": "d3017931-695c-41d6-ab6c-6d14fc9a2e23",
   "metadata": {},
   "outputs": [],
   "source": [
    "5.find the length of a set without using the len() function"
   ]
  },
  {
   "cell_type": "code",
   "execution_count": 27,
   "id": "d06bc718-73a1-4922-8ddd-9b7f8dc1b074",
   "metadata": {},
   "outputs": [
    {
     "name": "stdout",
     "output_type": "stream",
     "text": [
      "5\n"
     ]
    }
   ],
   "source": [
    "my_set = {1,2,3,4,5}\n",
    "count = 0\n",
    "for i in my_set:\n",
    "    count = count+1\n",
    "print(count)"
   ]
  },
  {
   "cell_type": "code",
   "execution_count": null,
   "id": "376e195c-66ac-4747-b0b1-bed51dbe1469",
   "metadata": {},
   "outputs": [],
   "source": [
    "6. clear all elemnts from a set"
   ]
  },
  {
   "cell_type": "code",
   "execution_count": 29,
   "id": "3b06ae4b-7f92-483b-8207-570699c9b9d6",
   "metadata": {},
   "outputs": [
    {
     "data": {
      "text/plain": [
       "set()"
      ]
     },
     "execution_count": 29,
     "metadata": {},
     "output_type": "execute_result"
    }
   ],
   "source": [
    "my_set = {1,2,3,4,5}\n",
    "my_set.clear()\n",
    "my_set"
   ]
  },
  {
   "cell_type": "code",
   "execution_count": null,
   "id": "04b214e2-82dd-4993-b53d-f6415193274c",
   "metadata": {},
   "outputs": [],
   "source": [
    "7. create a aset of even numbers from 1 to 10"
   ]
  },
  {
   "cell_type": "code",
   "execution_count": 35,
   "id": "d2c900af-dbba-4cce-879d-7d716095dc2c",
   "metadata": {},
   "outputs": [
    {
     "data": {
      "text/plain": [
       "{2, 4, 6, 8, 10}"
      ]
     },
     "execution_count": 35,
     "metadata": {},
     "output_type": "execute_result"
    }
   ],
   "source": [
    "even_numbers = {x for x in range(1, 11) if x % 2 == 0}\n",
    "even_numbers"
   ]
  },
  {
   "cell_type": "code",
   "execution_count": 38,
   "id": "8c925ded-a202-4215-9ae4-e1e1f76f4037",
   "metadata": {},
   "outputs": [
    {
     "data": {
      "text/plain": [
       "{2, 4, 6, 8, 10}"
      ]
     },
     "execution_count": 38,
     "metadata": {},
     "output_type": "execute_result"
    }
   ],
   "source": [
    "even_numbers = set()\n",
    "\n",
    "for num in range(1, 11):\n",
    "    if num % 2 == 0:\n",
    "        even_numbers.add(num)\n",
    "even_numbers"
   ]
  },
  {
   "cell_type": "code",
   "execution_count": null,
   "id": "7c83c410-03c7-4cd5-a460-58559ce89bb2",
   "metadata": {},
   "outputs": [],
   "source": [
    "8.create a set of odd numbers from 1 to 11"
   ]
  },
  {
   "cell_type": "code",
   "execution_count": 40,
   "id": "76a8f12a-2e58-4255-9055-b64720342666",
   "metadata": {},
   "outputs": [
    {
     "name": "stdout",
     "output_type": "stream",
     "text": [
      "{1, 3, 5, 7, 9}\n"
     ]
    }
   ],
   "source": [
    "odd = set()\n",
    "\n",
    "for i in range(11):\n",
    "    if i%2!=0:\n",
    "        odd.add(i)\n",
    "print(odd)"
   ]
  },
  {
   "cell_type": "code",
   "execution_count": null,
   "id": "35626dfa-46b2-45ce-b0f6-d49f30356a5d",
   "metadata": {},
   "outputs": [],
   "source": [
    "9. find the union of 2 sets"
   ]
  },
  {
   "cell_type": "code",
   "execution_count": 41,
   "id": "0a277f7d-b4fd-4d11-afb9-6c762c70fa52",
   "metadata": {},
   "outputs": [
    {
     "data": {
      "text/plain": [
       "{1, 2, 3, 4, 5, 6, 8, 9}"
      ]
     },
     "execution_count": 41,
     "metadata": {},
     "output_type": "execute_result"
    }
   ],
   "source": [
    "set1 = {1,2,3,4,5,6}\n",
    "set2 = {3,5,6,8,9}\n",
    "\n",
    "set1.union(set2)"
   ]
  },
  {
   "cell_type": "code",
   "execution_count": null,
   "id": "673708c4-fa04-4886-ad14-57e9a79e8e04",
   "metadata": {},
   "outputs": [],
   "source": [
    "10.find the intersection of two sets"
   ]
  },
  {
   "cell_type": "code",
   "execution_count": 42,
   "id": "281b0922-d6f7-4949-a41f-3c72a6050ec2",
   "metadata": {},
   "outputs": [
    {
     "data": {
      "text/plain": [
       "{3, 5, 6}"
      ]
     },
     "execution_count": 42,
     "metadata": {},
     "output_type": "execute_result"
    }
   ],
   "source": [
    "set1 = {1,2,3,4,5,6}\n",
    "set2 = {3,5,6,8,9}\n",
    "\n",
    "set1.intersection(set2)"
   ]
  },
  {
   "cell_type": "code",
   "execution_count": null,
   "id": "2a98d5b1-0669-423c-baaf-66cea957ad32",
   "metadata": {},
   "outputs": [],
   "source": [
    "11.find the difference between two sets"
   ]
  },
  {
   "cell_type": "code",
   "execution_count": 43,
   "id": "f4a83e70-71ad-4f87-ad03-ade78c8a3381",
   "metadata": {},
   "outputs": [
    {
     "data": {
      "text/plain": [
       "{1, 2, 4}"
      ]
     },
     "execution_count": 43,
     "metadata": {},
     "output_type": "execute_result"
    }
   ],
   "source": [
    "set1 = {1,2,3,4,5,6}\n",
    "set2 = {3,5,6,8,9}\n",
    "\n",
    "set1.difference(set2)"
   ]
  },
  {
   "cell_type": "code",
   "execution_count": null,
   "id": "cce3259b-4a58-47e7-803d-e848af31cee1",
   "metadata": {},
   "outputs": [],
   "source": [
    "12. check if a set is subset of another set"
   ]
  },
  {
   "cell_type": "code",
   "execution_count": 45,
   "id": "de579b7a-f88b-40ea-a502-dc14d6e68108",
   "metadata": {},
   "outputs": [
    {
     "data": {
      "text/plain": [
       "False"
      ]
     },
     "execution_count": 45,
     "metadata": {},
     "output_type": "execute_result"
    }
   ],
   "source": [
    "set1 = {1,2,3,4,5,6}\n",
    "set2 = {3,5,6,8,9}\n",
    "\n",
    "set1.issubset(set2)"
   ]
  },
  {
   "cell_type": "code",
   "execution_count": null,
   "id": "69f6bfa8-9c78-4c99-8e24-84fdc70c8943",
   "metadata": {},
   "outputs": [],
   "source": [
    "13. check if a set is superset of another set"
   ]
  },
  {
   "cell_type": "code",
   "execution_count": 46,
   "id": "eca5c23c-f7cd-4148-8c28-ad0c05573060",
   "metadata": {},
   "outputs": [
    {
     "data": {
      "text/plain": [
       "False"
      ]
     },
     "execution_count": 46,
     "metadata": {},
     "output_type": "execute_result"
    }
   ],
   "source": [
    "set1 = {1,2,3,4,5,6}\n",
    "set2 = {3,5,6,8,9}\n",
    "\n",
    "set1.issuperset(set2)"
   ]
  },
  {
   "cell_type": "code",
   "execution_count": null,
   "id": "236fa7db-2137-4689-9b9e-aeaae7d60069",
   "metadata": {},
   "outputs": [],
   "source": [
    "14.create set from a list"
   ]
  },
  {
   "cell_type": "code",
   "execution_count": 48,
   "id": "165a546f-aa6e-41e8-ad6d-367f7f7a5a11",
   "metadata": {},
   "outputs": [
    {
     "data": {
      "text/plain": [
       "{1, 2, 3, 4}"
      ]
     },
     "execution_count": 48,
     "metadata": {},
     "output_type": "execute_result"
    }
   ],
   "source": [
    "l = [1,2,3,4]\n",
    "s = set(l)\n",
    "s"
   ]
  },
  {
   "cell_type": "code",
   "execution_count": 56,
   "id": "b0b588a8-9d6b-4140-9b9a-28b033015fc8",
   "metadata": {},
   "outputs": [
    {
     "data": {
      "text/plain": [
       "{1, 2, 3}"
      ]
     },
     "execution_count": 56,
     "metadata": {},
     "output_type": "execute_result"
    }
   ],
   "source": [
    "l = [1,2,3]\n",
    "s = {i for i in l}\n",
    "s  "
   ]
  },
  {
   "cell_type": "code",
   "execution_count": null,
   "id": "1feb0355-f877-41c1-b731-403dd298988a",
   "metadata": {},
   "outputs": [],
   "source": [
    "15.convert a set to a list"
   ]
  },
  {
   "cell_type": "code",
   "execution_count": 57,
   "id": "af8e4eed-d038-47fb-98ac-68e1f5b8eb56",
   "metadata": {},
   "outputs": [
    {
     "data": {
      "text/plain": [
       "[1, 2, 3]"
      ]
     },
     "execution_count": 57,
     "metadata": {},
     "output_type": "execute_result"
    }
   ],
   "source": [
    "s = {1,2,3}\n",
    "l = list(s)\n",
    "l"
   ]
  },
  {
   "cell_type": "code",
   "execution_count": null,
   "id": "22ccaa69-0cd2-46be-bd2e-90f977815a5f",
   "metadata": {},
   "outputs": [],
   "source": [
    "16. remove a random elemnt from a set"
   ]
  },
  {
   "cell_type": "code",
   "execution_count": 60,
   "id": "3878735e-f9fa-4e69-acff-87b8ad4ae0fc",
   "metadata": {},
   "outputs": [
    {
     "data": {
      "text/plain": [
       "{2, 3}"
      ]
     },
     "execution_count": 60,
     "metadata": {},
     "output_type": "execute_result"
    }
   ],
   "source": [
    "s = {1,2,3}\n",
    "s.pop()\n",
    "s"
   ]
  },
  {
   "cell_type": "code",
   "execution_count": null,
   "id": "9832d1b7-bc3a-4153-ac8d-62dfa991f7de",
   "metadata": {},
   "outputs": [],
   "source": [
    "17. pop an element from a set"
   ]
  },
  {
   "cell_type": "code",
   "execution_count": 63,
   "id": "c540b7e2-388e-4bc1-b112-d9a43a2d9f0b",
   "metadata": {},
   "outputs": [
    {
     "data": {
      "text/plain": [
       "{2}"
      ]
     },
     "execution_count": 63,
     "metadata": {},
     "output_type": "execute_result"
    }
   ],
   "source": [
    "s = {1,2}\n",
    "s.pop()\n",
    "s"
   ]
  },
  {
   "cell_type": "code",
   "execution_count": null,
   "id": "d7d54f4e-d370-4a23-a21f-6ade1386e3d6",
   "metadata": {},
   "outputs": [],
   "source": [
    "18. check if two sets are no elements in common"
   ]
  },
  {
   "cell_type": "code",
   "execution_count": 66,
   "id": "45fcf061-f56e-4379-a840-2a40f3eee597",
   "metadata": {},
   "outputs": [
    {
     "name": "stdout",
     "output_type": "stream",
     "text": [
      "yes\n"
     ]
    }
   ],
   "source": [
    "s1 = {1,2,3,4}\n",
    "s2 = {45,56,78}\n",
    "if s1.isdisjoint(s2):\n",
    "    print(\"yes\")\n",
    "else:\n",
    "    print(\"no\")"
   ]
  },
  {
   "cell_type": "code",
   "execution_count": null,
   "id": "352dd375-e498-41a3-a8e3-aeaaed2363d9",
   "metadata": {},
   "outputs": [],
   "source": [
    "19. find the symmetric difference between two sets"
   ]
  },
  {
   "cell_type": "code",
   "execution_count": 68,
   "id": "4fc9c5d1-828d-453f-a757-d81c046a25b4",
   "metadata": {},
   "outputs": [
    {
     "data": {
      "text/plain": [
       "{3, 4, 45, 56, 78}"
      ]
     },
     "execution_count": 68,
     "metadata": {},
     "output_type": "execute_result"
    }
   ],
   "source": [
    "s1 = {1,2,3,4}\n",
    "s2 = {1,2,45,56,78}\n",
    "s1.symmetric_difference(s2)"
   ]
  },
  {
   "cell_type": "code",
   "execution_count": null,
   "id": "9de8ad95-5853-4a7f-9f07-421f62878708",
   "metadata": {},
   "outputs": [],
   "source": [
    "20. update a set with elemnts from another set"
   ]
  },
  {
   "cell_type": "code",
   "execution_count": 70,
   "id": "aa12b250-b166-4d88-94b5-9f84c07b7af7",
   "metadata": {},
   "outputs": [
    {
     "data": {
      "text/plain": [
       "{1, 2, 3, 4, 45, 56, 78}"
      ]
     },
     "execution_count": 70,
     "metadata": {},
     "output_type": "execute_result"
    }
   ],
   "source": [
    "s1 = {1,2,3,4}\n",
    "s2 = {1,2,45,56,78}\n",
    "s1.update(s2)\n",
    "s1"
   ]
  },
  {
   "cell_type": "code",
   "execution_count": null,
   "id": "dc87251a-829a-4196-a405-70b5babd706b",
   "metadata": {},
   "outputs": [],
   "source": [
    "21. create a set of the first 5 prime numbers"
   ]
  },
  {
   "cell_type": "code",
   "execution_count": 72,
   "id": "7d69732e-a015-4774-b345-5948d4b77b65",
   "metadata": {},
   "outputs": [
    {
     "name": "stdout",
     "output_type": "stream",
     "text": [
      "{2, 3, 5, 7, 11}\n"
     ]
    }
   ],
   "source": [
    "def is_prime(num):\n",
    "    if num < 2:\n",
    "        return False\n",
    "    for i in range(2, int(num**0.5) + 1):\n",
    "        if num % i == 0:\n",
    "            return False\n",
    "    return True\n",
    "\n",
    "first_five_primes = set()\n",
    "\n",
    "for number in range(2, 20): \n",
    "    if is_prime(number):\n",
    "        first_five_primes.add(number)\n",
    "\n",
    "    if len(first_five_primes) == 5:\n",
    "        break\n",
    "\n",
    "print(first_five_primes)\n"
   ]
  },
  {
   "cell_type": "code",
   "execution_count": null,
   "id": "23b3a9c8-0563-4ff4-84e4-b2f6e93b0de8",
   "metadata": {},
   "outputs": [],
   "source": [
    "22.check if two sets are identical"
   ]
  },
  {
   "cell_type": "code",
   "execution_count": 80,
   "id": "fb652bd0-81d5-4663-801a-4e0a3cd02aa3",
   "metadata": {},
   "outputs": [
    {
     "name": "stdout",
     "output_type": "stream",
     "text": [
      "identical\n"
     ]
    }
   ],
   "source": [
    "s1 = {1,2,3,4}\n",
    "s2 = {1,2,3,4}\n",
    "if s1.difference(s2) == set():\n",
    "    print(\"identical\")\n",
    "else:\n",
    "    print(\"not identical\")"
   ]
  },
  {
   "cell_type": "code",
   "execution_count": null,
   "id": "df0e5398-f995-4418-9503-425fbd786432",
   "metadata": {},
   "outputs": [],
   "source": [
    "23. CREATE A FROZEN SET"
   ]
  },
  {
   "cell_type": "code",
   "execution_count": 83,
   "id": "c568b852-9f4e-4b09-8160-e00f4cc2c668",
   "metadata": {},
   "outputs": [
    {
     "data": {
      "text/plain": [
       "frozenset({1, 2, 3})"
      ]
     },
     "execution_count": 83,
     "metadata": {},
     "output_type": "execute_result"
    }
   ],
   "source": [
    "frozen_set = frozenset([1, 2, 3])\n",
    "frozen_set"
   ]
  },
  {
   "cell_type": "code",
   "execution_count": null,
   "id": "893304ca-f993-40a6-afbe-dfd42f5a6e65",
   "metadata": {},
   "outputs": [],
   "source": [
    "24.check if a set is disjoint with another set"
   ]
  },
  {
   "cell_type": "code",
   "execution_count": 84,
   "id": "0ebec7f6-7eca-4ac4-9da7-2e114a7d09d0",
   "metadata": {},
   "outputs": [
    {
     "name": "stdout",
     "output_type": "stream",
     "text": [
      "yes\n"
     ]
    }
   ],
   "source": [
    "s1 = {1,2,3,4}\n",
    "s2 = {45,56,78}\n",
    "if s1.isdisjoint(s2):\n",
    "    print(\"yes\")\n",
    "else:\n",
    "    print(\"no\")"
   ]
  },
  {
   "cell_type": "code",
   "execution_count": null,
   "id": "5c2b3e66-2d94-46db-8ccc-b974e9d1b993",
   "metadata": {},
   "outputs": [],
   "source": [
    "25. create a set of squares of numbers from 1 to 5"
   ]
  },
  {
   "cell_type": "code",
   "execution_count": 89,
   "id": "db46f44c-1634-491c-8f7c-a0ef96333651",
   "metadata": {},
   "outputs": [
    {
     "data": {
      "text/plain": [
       "{1, 4, 9, 16, 25}"
      ]
     },
     "execution_count": 89,
     "metadata": {},
     "output_type": "execute_result"
    }
   ],
   "source": [
    "s = set()\n",
    "\n",
    "for i in range(1,6):\n",
    "    s.add(i**2)\n",
    "s"
   ]
  },
  {
   "cell_type": "code",
   "execution_count": null,
   "id": "39636555-5d17-471f-90d9-b51fbf4246ab",
   "metadata": {},
   "outputs": [],
   "source": [
    "26. filter out all even numbers from set. ghive me hints not code"
   ]
  },
  {
   "cell_type": "code",
   "execution_count": 95,
   "id": "9fe78b38-5400-47ff-9553-6ab542cad765",
   "metadata": {},
   "outputs": [
    {
     "data": {
      "text/plain": [
       "{1, 3, 5, 7}"
      ]
     },
     "execution_count": 95,
     "metadata": {},
     "output_type": "execute_result"
    }
   ],
   "source": [
    "s = {1,2,3,4,5,6,7}\n",
    "s1 = set()\n",
    "for i in s:\n",
    "    if i %2 !=0:\n",
    "        s1.add(i)\n",
    "s1"
   ]
  },
  {
   "cell_type": "code",
   "execution_count": 97,
   "id": "2a732cbc-6610-4b7a-9a75-077b324057c5",
   "metadata": {},
   "outputs": [
    {
     "name": "stdout",
     "output_type": "stream",
     "text": [
      "{1, 3, 5, 7}\n"
     ]
    }
   ],
   "source": [
    "def is_odd(num):\n",
    "    return num % 2 != 0\n",
    "\n",
    "s = {1, 2, 3, 4, 5, 6, 7}\n",
    "\n",
    "filtered_set = set(filter(is_odd, s))\n",
    "\n",
    "print(filtered_set)\n"
   ]
  },
  {
   "cell_type": "code",
   "execution_count": null,
   "id": "7840625c-e4b3-4063-89c3-87d151674ea6",
   "metadata": {},
   "outputs": [],
   "source": [
    "27.MULTIPLY ALL ELEMNTS IN A SET BY 2"
   ]
  },
  {
   "cell_type": "code",
   "execution_count": 105,
   "id": "9c4bbaed-6498-4ddd-a2be-60b54ae5e766",
   "metadata": {},
   "outputs": [
    {
     "data": {
      "text/plain": [
       "{2, 4, 6, 8, 10, 12, 14}"
      ]
     },
     "execution_count": 105,
     "metadata": {},
     "output_type": "execute_result"
    }
   ],
   "source": [
    "s = {1, 2, 3, 4, 5, 6, 7}\n",
    "s1 = set()\n",
    "for i in s:\n",
    "    s1.add(2*i)\n",
    "s1"
   ]
  },
  {
   "cell_type": "code",
   "execution_count": 107,
   "id": "5ee59de5-f50d-4ee0-b5de-dadd4a1a3434",
   "metadata": {},
   "outputs": [
    {
     "data": {
      "text/plain": [
       "{2, 4, 6, 8, 10, 12, 14}"
      ]
     },
     "execution_count": 107,
     "metadata": {},
     "output_type": "execute_result"
    }
   ],
   "source": [
    "s2 = {num*2 for num in s}\n",
    "s2"
   ]
  },
  {
   "cell_type": "code",
   "execution_count": null,
   "id": "917ac94b-b335-47fc-9e13-3b953a732bc2",
   "metadata": {},
   "outputs": [],
   "source": [
    "28.create set of random numbers"
   ]
  },
  {
   "cell_type": "code",
   "execution_count": 108,
   "id": "bf2b3c60-20bf-4110-8e2c-23eebc5a6912",
   "metadata": {},
   "outputs": [
    {
     "name": "stdout",
     "output_type": "stream",
     "text": [
      "{9, 10, 4}\n"
     ]
    }
   ],
   "source": [
    "import random\n",
    "\n",
    "random_set = set()\n",
    "for _ in range(5):\n",
    "    random_set.add(random.randint(1, 10))\n",
    "print(random_set)\n"
   ]
  },
  {
   "cell_type": "code",
   "execution_count": null,
   "id": "eb96b6fc-6c0d-491e-bb2f-fbcd48643f03",
   "metadata": {},
   "outputs": [],
   "source": [
    "29.check if a set is empty"
   ]
  },
  {
   "cell_type": "code",
   "execution_count": 117,
   "id": "6662469c-b7db-4e63-92e7-dd7d2c4f892a",
   "metadata": {},
   "outputs": [
    {
     "name": "stdout",
     "output_type": "stream",
     "text": [
      "no\n"
     ]
    }
   ],
   "source": [
    "s = {1}\n",
    "if s == set():\n",
    "    print(\"yes\")\n",
    "else:\n",
    "    print(\"no\")"
   ]
  },
  {
   "cell_type": "code",
   "execution_count": null,
   "id": "d1684bfc-c6b5-4e4a-a816-29579c867105",
   "metadata": {},
   "outputs": [],
   "source": [
    "30.create a nested set (hint:use frozen set)"
   ]
  },
  {
   "cell_type": "code",
   "execution_count": 118,
   "id": "45afb673-8ad3-479a-99ea-527dba7b0b8e",
   "metadata": {},
   "outputs": [
    {
     "name": "stdout",
     "output_type": "stream",
     "text": [
      "{frozenset({1, 2, 3}), frozenset({False, True}), frozenset({'c', 'b', 'a'})}\n"
     ]
    }
   ],
   "source": [
    "nested_set1 = frozenset({1, 2, 3})\n",
    "nested_set2 = frozenset({'a', 'b', 'c'})\n",
    "nested_set3 = frozenset({True, False})\n",
    "\n",
    "main_nested_set = {nested_set1, nested_set2, nested_set3}\n",
    "\n",
    "print(main_nested_set)\n"
   ]
  },
  {
   "cell_type": "code",
   "execution_count": null,
   "id": "8a7a8b9f-df63-4278-8fe6-1cf6844511ff",
   "metadata": {},
   "outputs": [],
   "source": [
    "31.remove an element from a set using discord method"
   ]
  },
  {
   "cell_type": "code",
   "execution_count": 122,
   "id": "562423a5-591a-46a2-83a2-3260ee7e6d41",
   "metadata": {},
   "outputs": [
    {
     "data": {
      "text/plain": [
       "{1.2, 2, 3, 'vamshi'}"
      ]
     },
     "execution_count": 122,
     "metadata": {},
     "output_type": "execute_result"
    }
   ],
   "source": [
    "s = {\"vamshi\",1,2,3,1.2}\n",
    "s.discard(1)\n",
    "s"
   ]
  },
  {
   "cell_type": "code",
   "execution_count": null,
   "id": "e00d81da-6e3b-4b3c-9e6c-3b13ee1cd97d",
   "metadata": {},
   "outputs": [],
   "source": [
    "32.compare two sets"
   ]
  },
  {
   "cell_type": "code",
   "execution_count": 124,
   "id": "6eb22d1d-2718-445a-a696-95874f1bb649",
   "metadata": {},
   "outputs": [
    {
     "name": "stdout",
     "output_type": "stream",
     "text": [
      "Sets are not equal\n",
      "set1 is not a subset of set2\n",
      "set2 is not a superset of set1\n",
      "Common elements: {3, 4, 5}\n",
      "Unique elements: {1, 2, 6, 7}\n"
     ]
    }
   ],
   "source": [
    "set1 = {1, 2, 3, 4, 5}\n",
    "set2 = {3, 4, 5, 6, 7}\n",
    "\n",
    "\n",
    "if set1 == set2:\n",
    "    print(\"Sets are equal\")\n",
    "else:\n",
    "    print(\"Sets are not equal\")\n",
    "\n",
    "if set1.issubset(set2):\n",
    "    print(\"set1 is a subset of set2\")\n",
    "else:\n",
    "    print(\"set1 is not a subset of set2\")\n",
    "if set2.issuperset(set1):\n",
    "    print(\"set2 is a superset of set1\")\n",
    "else:\n",
    "    print(\"set2 is not a superset of set1\")\n",
    "\n",
    "common_elements = set1.intersection(set2)\n",
    "print(\"Common elements:\", common_elements)\n",
    "\n",
    "unique_elements = set1.symmetric_difference(set2)\n",
    "print(\"Unique elements:\", unique_elements)\n"
   ]
  },
  {
   "cell_type": "code",
   "execution_count": null,
   "id": "6fd2431c-8a5c-4276-ab8f-dba1b1efd6ec",
   "metadata": {},
   "outputs": [],
   "source": [
    "33.create a set from a string"
   ]
  },
  {
   "cell_type": "code",
   "execution_count": 126,
   "id": "812f705a-fc82-459e-ac8f-092d2d546505",
   "metadata": {},
   "outputs": [
    {
     "data": {
      "text/plain": [
       "{'123', 'krishna', 'vamshi'}"
      ]
     },
     "execution_count": 126,
     "metadata": {},
     "output_type": "execute_result"
    }
   ],
   "source": [
    "s = \"vamshi krishna 123\"\n",
    "set(s.split())"
   ]
  },
  {
   "cell_type": "code",
   "execution_count": null,
   "id": "cfb85fcf-66b8-4872-8f1b-44c038b0be2e",
   "metadata": {},
   "outputs": [],
   "source": [
    "34.convert set of strings to SET OF integers"
   ]
  },
  {
   "cell_type": "code",
   "execution_count": 127,
   "id": "a7ff0ec6-2fa0-4af5-8cbe-22eb2571880b",
   "metadata": {},
   "outputs": [
    {
     "data": {
      "text/plain": [
       "{1, 2, 3}"
      ]
     },
     "execution_count": 127,
     "metadata": {},
     "output_type": "execute_result"
    }
   ],
   "source": [
    "s = {\"1\",\"2\",\"3\"}\n",
    "s1 = set()\n",
    "\n",
    "for i in s:\n",
    "    i = int(i)\n",
    "    s1.add(i)\n",
    "s1"
   ]
  },
  {
   "cell_type": "code",
   "execution_count": null,
   "id": "8976c770-7ff2-4f52-8793-763d77de354b",
   "metadata": {},
   "outputs": [],
   "source": [
    "35.convert set of INTEGERS to SET OF strings"
   ]
  },
  {
   "cell_type": "code",
   "execution_count": 129,
   "id": "0827ffd5-3cb5-4def-b463-5b6e4abd751b",
   "metadata": {},
   "outputs": [
    {
     "data": {
      "text/plain": [
       "{'1', '2', '3'}"
      ]
     },
     "execution_count": 129,
     "metadata": {},
     "output_type": "execute_result"
    }
   ],
   "source": [
    "s = {1,2,3}\n",
    "s1 = set()\n",
    "\n",
    "for i in s:\n",
    "    i = str(i)\n",
    "    s1.add(i)\n",
    "s1"
   ]
  },
  {
   "cell_type": "code",
   "execution_count": null,
   "id": "1bdc2af5-331b-48e0-8860-85e3e5e4351d",
   "metadata": {},
   "outputs": [],
   "source": [
    "36.create a set from a tuple"
   ]
  },
  {
   "cell_type": "code",
   "execution_count": 130,
   "id": "998a48ca-dd82-422d-a470-28c990207baf",
   "metadata": {},
   "outputs": [
    {
     "data": {
      "text/plain": [
       "{1, 2, 3}"
      ]
     },
     "execution_count": 130,
     "metadata": {},
     "output_type": "execute_result"
    }
   ],
   "source": [
    "t = (1,2,3)\n",
    "set(t)"
   ]
  },
  {
   "cell_type": "code",
   "execution_count": 132,
   "id": "2692b619-6b20-4656-9284-84ee48440166",
   "metadata": {},
   "outputs": [
    {
     "data": {
      "text/plain": [
       "{1, 2, 3}"
      ]
     },
     "execution_count": 132,
     "metadata": {},
     "output_type": "execute_result"
    }
   ],
   "source": [
    "s = set()\n",
    "s.update(t)\n",
    "s"
   ]
  },
  {
   "cell_type": "code",
   "execution_count": null,
   "id": "d0530800-1ded-4155-a75b-45e0142fa6e2",
   "metadata": {},
   "outputs": [],
   "source": [
    "37.convert set to a tuple"
   ]
  },
  {
   "cell_type": "code",
   "execution_count": 133,
   "id": "cc8528b0-c3b3-440f-985f-148308c1e2c8",
   "metadata": {},
   "outputs": [
    {
     "data": {
      "text/plain": [
       "(1, 2, 3)"
      ]
     },
     "execution_count": 133,
     "metadata": {},
     "output_type": "execute_result"
    }
   ],
   "source": [
    "s = {1,2,3}\n",
    "tuple(s)"
   ]
  },
  {
   "cell_type": "code",
   "execution_count": null,
   "id": "c3540c2d-84d6-4b6e-bdcf-048e84839028",
   "metadata": {},
   "outputs": [],
   "source": [
    "38.find the maximum value in set"
   ]
  },
  {
   "cell_type": "code",
   "execution_count": 134,
   "id": "85b3d8b5-7c5f-4f1d-9f12-d09f0f6ff70e",
   "metadata": {},
   "outputs": [
    {
     "data": {
      "text/plain": [
       "4"
      ]
     },
     "execution_count": 134,
     "metadata": {},
     "output_type": "execute_result"
    }
   ],
   "source": [
    "s = {1,2,3,4}\n",
    "max_value = 0\n",
    "for i in s:\n",
    "    if i >max_value:\n",
    "        max_value = i\n",
    "max_value"
   ]
  },
  {
   "cell_type": "code",
   "execution_count": null,
   "id": "466898d3-fc7c-4e7f-ba51-3ebbb5e03f06",
   "metadata": {},
   "outputs": [],
   "source": [
    "39.find the minimum value in set"
   ]
  },
  {
   "cell_type": "code",
   "execution_count": 144,
   "id": "f045017b-cca6-4750-b073-8634d1ec6c58",
   "metadata": {},
   "outputs": [
    {
     "name": "stdout",
     "output_type": "stream",
     "text": [
      "1\n"
     ]
    },
    {
     "data": {
      "text/plain": [
       "1"
      ]
     },
     "execution_count": 144,
     "metadata": {},
     "output_type": "execute_result"
    }
   ],
   "source": [
    "s = {1, 2, 3, 4}\n",
    "min_value = float('inf')  \n",
    "for i in s:\n",
    "    if i < min_value:\n",
    "        min_value = i\n",
    "\n",
    "print(min_value)\n",
    "min(s)"
   ]
  },
  {
   "cell_type": "code",
   "execution_count": null,
   "id": "65349c96-66a7-4fa3-ba0f-6061d30fc61e",
   "metadata": {},
   "outputs": [],
   "source": [
    "40.crteate a set from user input"
   ]
  },
  {
   "cell_type": "code",
   "execution_count": 153,
   "id": "9b91b7b5-c002-41e6-876b-f02102b2affd",
   "metadata": {},
   "outputs": [
    {
     "name": "stdin",
     "output_type": "stream",
     "text": [
      " 1\n"
     ]
    },
    {
     "data": {
      "text/plain": [
       "{'1'}"
      ]
     },
     "execution_count": 153,
     "metadata": {},
     "output_type": "execute_result"
    }
   ],
   "source": [
    "s = input()\n",
    "s1 = set([s])\n",
    "s1"
   ]
  },
  {
   "cell_type": "code",
   "execution_count": null,
   "id": "6da8f1cd-724e-4060-a610-586f2f37b630",
   "metadata": {},
   "outputs": [],
   "source": [
    "41.check if the intersection of two sets are empty"
   ]
  },
  {
   "cell_type": "code",
   "execution_count": 156,
   "id": "07d2fbc4-67ee-4925-a6b3-d97c1589a007",
   "metadata": {},
   "outputs": [
    {
     "name": "stdout",
     "output_type": "stream",
     "text": [
      "empty\n"
     ]
    }
   ],
   "source": [
    "s1 = {1,2,3}\n",
    "s2 = {5,6,7}\n",
    "if s1.intersection(s2) == set():\n",
    "    print(\"empty\")\n",
    "else:\n",
    "    print(\"not\")\n",
    "    "
   ]
  },
  {
   "cell_type": "code",
   "execution_count": null,
   "id": "f82cc0a3-ce31-4f6e-83df-609c94643e3a",
   "metadata": {},
   "outputs": [],
   "source": [
    "42.create a set of first 5 fibonacci numbers"
   ]
  },
  {
   "cell_type": "code",
   "execution_count": 1,
   "id": "505d2f52-ab15-4d3a-8fd0-eb79eb850866",
   "metadata": {},
   "outputs": [
    {
     "name": "stdout",
     "output_type": "stream",
     "text": [
      "{0, 1, 2, 3}\n"
     ]
    }
   ],
   "source": [
    "a,b = 0,1\n",
    "fib = {a,b}\n",
    "\n",
    "for i in range(3):\n",
    "  \n",
    "    a,b = b, a+b\n",
    "    fib.add(b)\n",
    "print(fib)"
   ]
  },
  {
   "cell_type": "code",
   "execution_count": 3,
   "id": "af2339c1-4104-4ad4-9090-6a69d5a8db0d",
   "metadata": {},
   "outputs": [],
   "source": [
    "def feb(n):\n",
    "    fibonacci = [0,1]\n",
    "   \n",
    "\n",
    "    for i in range(2,n):\n",
    "        next_fibonacci = fibonacci[-1] + fibonacci[-2]\n",
    "        fibonacci.append(next_fibonacci)\n",
    "    return set(fibonacci)\n"
   ]
  },
  {
   "cell_type": "code",
   "execution_count": 4,
   "id": "b55f059a-2aa6-45b5-96ff-d8b70dbabc39",
   "metadata": {},
   "outputs": [
    {
     "data": {
      "text/plain": [
       "{0, 1, 2, 3}"
      ]
     },
     "execution_count": 4,
     "metadata": {},
     "output_type": "execute_result"
    }
   ],
   "source": [
    "feb(5)"
   ]
  },
  {
   "cell_type": "markdown",
   "id": "0002de55-9fde-4444-9aef-600c62d5aebe",
   "metadata": {},
   "source": [
    "43.remove duplicates from a list using sets"
   ]
  },
  {
   "cell_type": "code",
   "execution_count": 10,
   "id": "3d4f83c0-0757-403e-9f27-d601cf8d9bcd",
   "metadata": {},
   "outputs": [
    {
     "data": {
      "text/plain": [
       "[1, 2, 3]"
      ]
     },
     "execution_count": 10,
     "metadata": {},
     "output_type": "execute_result"
    }
   ],
   "source": [
    "l = [1,1,2,3]\n",
    "s = set(l)\n",
    "l1 = list(s)\n",
    "l1"
   ]
  },
  {
   "cell_type": "code",
   "execution_count": null,
   "id": "80f98228-1c7b-43c6-85ea-c903a6d854e7",
   "metadata": {},
   "outputs": [],
   "source": [
    "44.check if two sets have the same elements , regardless of their count."
   ]
  },
  {
   "cell_type": "code",
   "execution_count": 16,
   "id": "6d3e66e5-fe93-48f4-a616-c96aaa0af531",
   "metadata": {},
   "outputs": [
    {
     "name": "stdout",
     "output_type": "stream",
     "text": [
      "two sets have same elements\n"
     ]
    }
   ],
   "source": [
    "s = {1,2,3,4}\n",
    "s1 = {4,2,1,3}\n",
    "if s.difference(s1) == set():\n",
    "    print(\"two sets have same elements\")\n",
    "else:\n",
    "    print(\"no\")"
   ]
  },
  {
   "cell_type": "code",
   "execution_count": null,
   "id": "e6d5b56c-0bc0-480a-acaa-a7d718eda5bd",
   "metadata": {},
   "outputs": [],
   "source": [
    "45.create A SET of first n powers of two"
   ]
  },
  {
   "cell_type": "code",
   "execution_count": 20,
   "id": "8358c884-d43a-4861-b9b0-28e8ac645e3c",
   "metadata": {},
   "outputs": [
    {
     "data": {
      "text/plain": [
       "{2, 4, 8, 16, 32, 64, 128, 256, 512}"
      ]
     },
     "execution_count": 20,
     "metadata": {},
     "output_type": "execute_result"
    }
   ],
   "source": [
    "s = set()\n",
    "\n",
    "for i in range(1,10):\n",
    "    i = 2**i\n",
    "    s.add(i)\n",
    "s"
   ]
  },
  {
   "cell_type": "code",
   "execution_count": null,
   "id": "e3621dbd-a317-40e7-9944-ce2cf1bd4da1",
   "metadata": {},
   "outputs": [],
   "source": [
    "46. find common elemnts betweeen list and set"
   ]
  },
  {
   "cell_type": "code",
   "execution_count": 22,
   "id": "15ee7fe9-8a54-4aec-9638-7a50b60c5e51",
   "metadata": {},
   "outputs": [
    {
     "name": "stdout",
     "output_type": "stream",
     "text": [
      "1\n",
      "2\n",
      "3\n"
     ]
    }
   ],
   "source": [
    "l = [1,2,3,4,5,77,85,89]\n",
    "s = {1,3,2,8,9,0,15,67}\n",
    "\n",
    "for i in l:\n",
    "    if i in s:\n",
    "        print(i)"
   ]
  },
  {
   "cell_type": "code",
   "execution_count": null,
   "id": "57fc2233-40bb-43ad-bf5f-fa158e68c484",
   "metadata": {},
   "outputs": [],
   "source": [
    "47.create  a set of first 'n' triangular numbers"
   ]
  },
  {
   "cell_type": "code",
   "execution_count": 44,
   "id": "dd9627c0-d122-4b73-a6f6-965a58e51592",
   "metadata": {},
   "outputs": [
    {
     "name": "stdout",
     "output_type": "stream",
     "text": [
      "{1, 3, 6, 10, 15}\n"
     ]
    }
   ],
   "source": [
    "def generate_triangle_numbers(n):\n",
    "    triangle_numbers = ()\n",
    "    for i in range(1, n + 1):\n",
    "        triangle_number = (i * (i + 1)) // 2\n",
    "        triangle_numbers += (triangle_number,)\n",
    "    return triangle_numbers\n",
    "\n",
    "first_5_triangle_numbers = generate_triangle_numbers(5)\n",
    "print(set(first_5_triangle_numbers))\n"
   ]
  },
  {
   "cell_type": "code",
   "execution_count": null,
   "id": "9c5f7d9c-8e6f-487b-949c-fa34c1a0e53f",
   "metadata": {},
   "outputs": [],
   "source": [
    "48.check if a set contains another set as subset"
   ]
  },
  {
   "cell_type": "code",
   "execution_count": 42,
   "id": "766ecfe5-8b41-4ede-b412-132f14fce063",
   "metadata": {},
   "outputs": [
    {
     "name": "stdout",
     "output_type": "stream",
     "text": [
      "s contain s1 as subsequence\n"
     ]
    }
   ],
   "source": [
    "s = {1,2,3,4,5}\n",
    "s1 = {1,2}\n",
    "s2 = set()\n",
    "for i in s:\n",
    "    if i in s1:\n",
    "        s2.add(i)\n",
    "if s2 == s1:\n",
    "    print(\"s contain s1 as subsequence\")\n",
    "else:\n",
    "    print(\"s does not contain s1 as a subsequence\")"
   ]
  },
  {
   "cell_type": "code",
   "execution_count": null,
   "id": "65ccd6f3-7192-465d-8666-8e5942a390ac",
   "metadata": {},
   "outputs": [],
   "source": [
    "49.create a set of alternating 1s and 0s"
   ]
  },
  {
   "cell_type": "code",
   "execution_count": 36,
   "id": "5791c842-2845-456c-8371-ece4b235bb88",
   "metadata": {},
   "outputs": [
    {
     "data": {
      "text/plain": [
       "{0, 1}"
      ]
     },
     "execution_count": 36,
     "metadata": {},
     "output_type": "execute_result"
    }
   ],
   "source": [
    "def f(n):\n",
    "    s = set()\n",
    "    for i in range(n):\n",
    "        if i%2 ==0:\n",
    "            s.add(1)\n",
    "        else:\n",
    "            s.add(0)\n",
    "    return s\n",
    "f(5)"
   ]
  },
  {
   "cell_type": "code",
   "execution_count": null,
   "id": "622095e0-37fc-44ff-a78c-6e6bb3980592",
   "metadata": {},
   "outputs": [],
   "source": [
    "50.merge multiple sets into 1"
   ]
  },
  {
   "cell_type": "code",
   "execution_count": 26,
   "id": "d2b9d84a-258e-4b3b-bc62-a21d44503019",
   "metadata": {},
   "outputs": [
    {
     "data": {
      "text/plain": [
       "{1, 2, 3, 4, 5}"
      ]
     },
     "execution_count": 26,
     "metadata": {},
     "output_type": "execute_result"
    }
   ],
   "source": [
    "s1 = {1}\n",
    "s2 = {1,2,3}\n",
    "s3 = {3,4,5}\n",
    "s1.update(s2,s3)\n",
    "s1"
   ]
  }
 ],
 "metadata": {
  "kernelspec": {
   "display_name": "Python 3 (ipykernel)",
   "language": "python",
   "name": "python3"
  },
  "language_info": {
   "codemirror_mode": {
    "name": "ipython",
    "version": 3
   },
   "file_extension": ".py",
   "mimetype": "text/x-python",
   "name": "python",
   "nbconvert_exporter": "python",
   "pygments_lexer": "ipython3",
   "version": "3.10.8"
  }
 },
 "nbformat": 4,
 "nbformat_minor": 5
}
